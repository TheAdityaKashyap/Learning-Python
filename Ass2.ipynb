{
 "cells": [
  {
   "cell_type": "code",
   "execution_count": 1,
   "id": "0634e0de",
   "metadata": {},
   "outputs": [
    {
     "name": "stdout",
     "output_type": "stream",
     "text": [
      "hello\n"
     ]
    }
   ],
   "source": [
    "print(\"hello\")\n"
   ]
  },
  {
   "cell_type": "code",
   "execution_count": null,
   "id": "11bd61d8",
   "metadata": {},
   "outputs": [
    {
     "name": "stdout",
     "output_type": "stream",
     "text": [
      "Square root of 100 is: 10.0\n",
      "Sine of 90 degrees is: 1.0\n"
     ]
    }
   ],
   "source": [
    "# Import the math module and use it to calculate the square root of 25 and the sine of 90\n",
    "# degrees.\n",
    "\n",
    "import math\n",
    "\n",
    "sqrroot = math.sqrt(100)\n",
    "\n",
    "sine = math.sin(math.radians(90))\n",
    "\n",
    "\n",
    "\n",
    "print(\"Square root of 100 is:\", sqrroot)\n",
    "print(\"Sine of 90 degrees is:\", sine)"
   ]
  },
  {
   "cell_type": "code",
   "execution_count": null,
   "id": "5daa83bf",
   "metadata": {},
   "outputs": [
    {
     "name": "stdout",
     "output_type": "stream",
     "text": [
      "Current date and time is: 2025-08-23 20:13:25.614235\n"
     ]
    }
   ],
   "source": [
    "# Import the datetime module with an alias and use it to print the current date and time\n",
    "\n",
    "\n",
    "import datetime\n",
    "\n",
    "now = datetime.datetime.now()\n",
    "\n",
    "print(\"Current date and time is:\", now)"
   ]
  },
  {
   "cell_type": "code",
   "execution_count": null,
   "id": "33165064",
   "metadata": {},
   "outputs": [
    {
     "name": "stdout",
     "output_type": "stream",
     "text": [
      "Random integer between 1 and 100 is: 8\n"
     ]
    }
   ],
   "source": [
    "# Import the randint function from the random module and use it to generate a random\n",
    "# integer between 1 and 100.\n",
    "\n",
    "from random import randint\n",
    "\n",
    "random_int = randint(1, 100)\n",
    "print(\"Random intger between 1 and 100 is:\", random_int)"
   ]
  },
  {
   "cell_type": "code",
   "execution_count": null,
   "id": "dad4d341",
   "metadata": {},
   "outputs": [
    {
     "name": "stdout",
     "output_type": "stream",
     "text": [
      "Square root of 16: 4.0\n",
      "2 raised to the power of 3: 8.0\n"
     ]
    }
   ],
   "source": [
    "# 4. Import the sqrt and pow functions from the math module and use them to calculate the\n",
    "# square root of 16 and 2 raised to the power of 3.\n",
    "\n",
    "from math import sqrt, pow\n",
    "\n",
    "\n",
    "square_root = sqrt(16)\n",
    "power_val = pow(2, 3)\n",
    "\n",
    "print(\"Square root of 16:\", square_root)\n",
    "print(\"2 raised to the power of 3:\", power_val)\n"
   ]
  },
  {
   "cell_type": "code",
   "execution_count": null,
   "id": "f8e0d4ab",
   "metadata": {},
   "outputs": [],
   "source": [
    "#ass 5"
   ]
  },
  {
   "cell_type": "code",
   "execution_count": 12,
   "id": "e70179a9",
   "metadata": {},
   "outputs": [
    {
     "name": "stdout",
     "output_type": "stream",
     "text": [
      "Directory 'test_folder' created.\n",
      "Contents of current directory: ['.git', '.gitattributes', 'Ass2.ipynb', 'Basic.ipynb', 'dict.ipynb', 'Functions.ipynb', 'IfElseProject.md', 'if_else.ipynb', 'List.ipynb', 'Loops.ipynb', 'operator.ipynb', 'packagesquestion (1).ipynb', 'project1.py', 'SAP Project', 'Set.ipynb', 'string.ipynb', 'test_folder', 'try.ipynb']\n",
      "Directory 'test_folder' removed.\n"
     ]
    }
   ],
   "source": [
    "# Ass. 6 Use the os module to create a new directory, list the contents of the current directory, and\n",
    "# remove the newly created directory.\n",
    "\n",
    "\n",
    "import os\n",
    "\n",
    "# Name of the new directory\n",
    "dir_name = \"test_folder\"\n",
    "\n",
    "# Create a new directory\n",
    "os.mkdir(dir_name)\n",
    "print(f\"Directory '{dir_name}' created.\")\n",
    "\n",
    "# List the contents of the current directory\n",
    "print(\"Contents of current directory:\", os.listdir())\n",
    "\n",
    "# Remove the newly created directory\n",
    "os.rmdir(dir_name)\n",
    "print(f\"Directory '{dir_name}' removed.\")\n"
   ]
  },
  {
   "cell_type": "code",
   "execution_count": 13,
   "id": "54e87ad0",
   "metadata": {},
   "outputs": [
    {
     "name": "stdout",
     "output_type": "stream",
     "text": [
      "GCD of 48 and 18 is: 6\n",
      "Factorial of 5 is: 120\n"
     ]
    }
   ],
   "source": [
    "# Ass. 8 \n",
    "# Use the math module to calculate the greatest common divisor (GCD) of two numbers and\n",
    "# the factorial of a number.\n",
    "\n",
    "\n",
    "import math\n",
    "\n",
    "num1 = 48\n",
    "num2 = 18\n",
    "\n",
    "\n",
    "gcd_val = math.gcd(num1, num2)\n",
    "fact_val = math.factorial(5)\n",
    "\n",
    "print(f\"GCD of {num1} and {num2} is:\", gcd_val)\n",
    "print(\"Factorial of 5 is:\", fact_val)\n",
    "\n"
   ]
  },
  {
   "cell_type": "code",
   "execution_count": 16,
   "id": "29515dff",
   "metadata": {},
   "outputs": [
    {
     "name": "stdout",
     "output_type": "stream",
     "text": [
      "Today's date: 2025-08-23\n",
      "Date 100 days from today: 2025-12-01\n",
      "Day of the week on 15-Aug-2025: Friday\n"
     ]
    }
   ],
   "source": [
    "# 9. Use the datetime module to print the current date, calculate the date 100 days from today,\n",
    "# and determine the day of the week for a given date.\n",
    "\n",
    "from datetime import date, timedelta\n",
    "\n",
    "# Current date\n",
    "today = date.today()\n",
    "print(\"Today's date:\", today)\n",
    "\n",
    "# Date 100 days from today\n",
    "fdate = today + timedelta(days=100)\n",
    "print(\"Date 100 days from today:\", fdate)\n",
    "\n",
    "# Given date (example: 15 August 2025)\n",
    "given_date = date(2025, 8, 15)\n",
    "day_of_week = given_date.strftime(\"%A\")\n",
    "print(\"Day of the week on 15-Aug-2025:\", day_of_week)\n"
   ]
  },
  {
   "cell_type": "code",
   "execution_count": 15,
   "id": "2c1ff5f4",
   "metadata": {},
   "outputs": [
    {
     "name": "stdout",
     "output_type": "stream",
     "text": [
      "Random numbers: [4, 45, 14, 22, 8]\n",
      "Shuffled list: [2, 4, 3, 5, 1]\n"
     ]
    }
   ],
   "source": [
    "# 10. Use the random module to generate a list of 5 random numbers between 1 and 50 and\n",
    "# shuffle the elements of a list.\n",
    "\n",
    "\n",
    "import random\n",
    "\n",
    "# Generate a list of 5 random numbers between 1 and 50\n",
    "random_numbers = [random.randint(1, 50) for _ in range(5)]\n",
    "print(\"Random numbers:\", random_numbers)\n",
    "\n",
    "# A sample list\n",
    "my_list = [1, 2, 3, 4, 5]\n",
    "\n",
    "# Shuffle the list\n",
    "random.shuffle(my_list)\n",
    "print(\"Shuffled list:\", my_list)\n",
    "\n"
   ]
  },
  {
   "cell_type": "code",
   "execution_count": 2,
   "id": "76522e3c",
   "metadata": {},
   "outputs": [
    {
     "ename": "FileNotFoundError",
     "evalue": "[Errno 2] No such file or directory: 'example.txt'",
     "output_type": "error",
     "traceback": [
      "\u001b[1;31m---------------------------------------------------------------------------\u001b[0m",
      "\u001b[1;31mFileNotFoundError\u001b[0m                         Traceback (most recent call last)",
      "Cell \u001b[1;32mIn[2], line 23\u001b[0m\n\u001b[0;32m     21\u001b[0m \u001b[38;5;66;03m# Example usage\u001b[39;00m\n\u001b[0;32m     22\u001b[0m file_name \u001b[38;5;241m=\u001b[39m \u001b[38;5;124m\"\u001b[39m\u001b[38;5;124mexample.txt\u001b[39m\u001b[38;5;124m\"\u001b[39m\n\u001b[1;32m---> 23\u001b[0m lines, words, chars \u001b[38;5;241m=\u001b[39m \u001b[43mcount_file_stats\u001b[49m\u001b[43m(\u001b[49m\u001b[43mfile_name\u001b[49m\u001b[43m)\u001b[49m\n\u001b[0;32m     25\u001b[0m \u001b[38;5;28mprint\u001b[39m(\u001b[38;5;124mf\u001b[39m\u001b[38;5;124m\"\u001b[39m\u001b[38;5;124mLines: \u001b[39m\u001b[38;5;132;01m{\u001b[39;00mlines\u001b[38;5;132;01m}\u001b[39;00m\u001b[38;5;124m\"\u001b[39m)\n\u001b[0;32m     26\u001b[0m \u001b[38;5;28mprint\u001b[39m(\u001b[38;5;124mf\u001b[39m\u001b[38;5;124m\"\u001b[39m\u001b[38;5;124mWords: \u001b[39m\u001b[38;5;132;01m{\u001b[39;00mwords\u001b[38;5;132;01m}\u001b[39;00m\u001b[38;5;124m\"\u001b[39m)\n",
      "Cell \u001b[1;32mIn[2], line 6\u001b[0m, in \u001b[0;36mcount_file_stats\u001b[1;34m(filename)\u001b[0m\n\u001b[0;32m      5\u001b[0m \u001b[38;5;28;01mdef\u001b[39;00m \u001b[38;5;21mcount_file_stats\u001b[39m(filename):\n\u001b[1;32m----> 6\u001b[0m     \u001b[38;5;28;01mwith\u001b[39;00m \u001b[38;5;28;43mopen\u001b[39;49m\u001b[43m(\u001b[49m\u001b[43mfilename\u001b[49m\u001b[43m,\u001b[49m\u001b[43m \u001b[49m\u001b[38;5;124;43m'\u001b[39;49m\u001b[38;5;124;43mr\u001b[39;49m\u001b[38;5;124;43m'\u001b[39;49m\u001b[43m)\u001b[49m \u001b[38;5;28;01mas\u001b[39;00m file:\n\u001b[0;32m      7\u001b[0m         content \u001b[38;5;241m=\u001b[39m file\u001b[38;5;241m.\u001b[39mread()\n\u001b[0;32m      9\u001b[0m     \u001b[38;5;66;03m# Count lines\u001b[39;00m\n",
      "File \u001b[1;32mc:\\Users\\LENOVO\\AppData\\Local\\Programs\\Python\\Python312\\Lib\\site-packages\\IPython\\core\\interactiveshell.py:324\u001b[0m, in \u001b[0;36m_modified_open\u001b[1;34m(file, *args, **kwargs)\u001b[0m\n\u001b[0;32m    317\u001b[0m \u001b[38;5;28;01mif\u001b[39;00m file \u001b[38;5;129;01min\u001b[39;00m {\u001b[38;5;241m0\u001b[39m, \u001b[38;5;241m1\u001b[39m, \u001b[38;5;241m2\u001b[39m}:\n\u001b[0;32m    318\u001b[0m     \u001b[38;5;28;01mraise\u001b[39;00m \u001b[38;5;167;01mValueError\u001b[39;00m(\n\u001b[0;32m    319\u001b[0m         \u001b[38;5;124mf\u001b[39m\u001b[38;5;124m\"\u001b[39m\u001b[38;5;124mIPython won\u001b[39m\u001b[38;5;124m'\u001b[39m\u001b[38;5;124mt let you open fd=\u001b[39m\u001b[38;5;132;01m{\u001b[39;00mfile\u001b[38;5;132;01m}\u001b[39;00m\u001b[38;5;124m by default \u001b[39m\u001b[38;5;124m\"\u001b[39m\n\u001b[0;32m    320\u001b[0m         \u001b[38;5;124m\"\u001b[39m\u001b[38;5;124mas it is likely to crash IPython. If you know what you are doing, \u001b[39m\u001b[38;5;124m\"\u001b[39m\n\u001b[0;32m    321\u001b[0m         \u001b[38;5;124m\"\u001b[39m\u001b[38;5;124myou can use builtins\u001b[39m\u001b[38;5;124m'\u001b[39m\u001b[38;5;124m open.\u001b[39m\u001b[38;5;124m\"\u001b[39m\n\u001b[0;32m    322\u001b[0m     )\n\u001b[1;32m--> 324\u001b[0m \u001b[38;5;28;01mreturn\u001b[39;00m \u001b[43mio_open\u001b[49m\u001b[43m(\u001b[49m\u001b[43mfile\u001b[49m\u001b[43m,\u001b[49m\u001b[43m \u001b[49m\u001b[38;5;241;43m*\u001b[39;49m\u001b[43margs\u001b[49m\u001b[43m,\u001b[49m\u001b[43m \u001b[49m\u001b[38;5;241;43m*\u001b[39;49m\u001b[38;5;241;43m*\u001b[39;49m\u001b[43mkwargs\u001b[49m\u001b[43m)\u001b[49m\n",
      "\u001b[1;31mFileNotFoundError\u001b[0m: [Errno 2] No such file or directory: 'example.txt'"
     ]
    }
   ],
   "source": [
    "# reade a ffile\n",
    "# and count the number of lines swords,\n",
    "# and character\n",
    "\n",
    "def count_file_stats(filename):\n",
    "    with open(filename, 'r') as file:\n",
    "        content = file.read()\n",
    "\n",
    "    # Count lines\n",
    "    line_count = content.count('\\n') + 1 if content else 0\n",
    "\n",
    "    # Count words\n",
    "    word_count = len(content.split())\n",
    "\n",
    "    # Count characters\n",
    "    char_count = len(content)\n",
    "\n",
    "    return line_count, word_count, char_count\n",
    "\n",
    "\n",
    "# Example usage\n",
    "file_name = \"example.txt\"\n",
    "lines, words, chars = count_file_stats(file_name)\n",
    "\n",
    "print(f\"Lines: {lines}\")\n",
    "print(f\"Words: {words}\")\n",
    "print(f\"Characters: {chars}\")\n"
   ]
  },
  {
   "cell_type": "code",
   "execution_count": null,
   "id": "8dba2379",
   "metadata": {},
   "outputs": [],
   "source": []
  }
 ],
 "metadata": {
  "kernelspec": {
   "display_name": "Python 3",
   "language": "python",
   "name": "python3"
  },
  "language_info": {
   "codemirror_mode": {
    "name": "ipython",
    "version": 3
   },
   "file_extension": ".py",
   "mimetype": "text/x-python",
   "name": "python",
   "nbconvert_exporter": "python",
   "pygments_lexer": "ipython3",
   "version": "3.12.7"
  }
 },
 "nbformat": 4,
 "nbformat_minor": 5
}
