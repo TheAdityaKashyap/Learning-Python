{
 "cells": [
  {
   "cell_type": "code",
   "execution_count": 1,
   "id": "6c973c84",
   "metadata": {},
   "outputs": [
    {
     "name": "stdout",
     "output_type": "stream",
     "text": [
      "[]\n"
     ]
    }
   ],
   "source": [
    "# create empty list\n",
    "data= []\n",
    "print(data)"
   ]
  },
  {
   "cell_type": "code",
   "execution_count": null,
   "id": "1bf65055",
   "metadata": {},
   "outputs": [],
   "source": [
    "# -- User input section\n",
    "# Enter Product List Size : 4\n",
    "# Enter Product 1 -\n",
    "# Samosa\n",
    "# Enter Product 2 -\n",
    "# Kachori\n",
    "# Enter Product 3 -\n",
    "# Fafda\n",
    "# Enter Product 4 -\n",
    "# Jalebi\n",
    "\n",
    "# Enter Samosa Price :\n",
    "# 300/-\n",
    "# Enter Kachori Price :\n",
    "# 100/-\n",
    "# Enter Fafda Price :\n",
    "# 100/-\n",
    "# Enter Jalebi Price :\n",
    "# 200/-\n",
    "\n",
    "# --- output\n",
    "\n",
    "# samosa = 300\n",
    "# kachori = 100\n",
    "# fafda = 100\n",
    "# jalebi = 200"
   ]
  },
  {
   "cell_type": "code",
   "execution_count": 1,
   "id": "7f6da1cf",
   "metadata": {},
   "outputs": [
    {
     "name": "stdout",
     "output_type": "stream",
     "text": [
      "samosa = 15\n",
      "pav = 5\n"
     ]
    }
   ],
   "source": [
    "product=[]\n",
    "product_price=[]\n",
    "\n",
    "size = int(input(\"Enter the number of products: \"))\n",
    "\n",
    "for i in range(size):\n",
    "    i = (input(\"Enter Item Name:\"))\n",
    "    product.append(i)\n",
    "\n",
    "# for i in range(size):\n",
    "#     print(product[i])\n",
    "\n",
    "\n",
    "for i in range(size):\n",
    "    i = int(input(\"Enter price of items\"))\n",
    "    product_price.append(i)\n",
    "\n",
    "for i in range(size):\n",
    "    print(product[i], \"=\",product_price[i])"
   ]
  },
  {
   "cell_type": "markdown",
   "id": "5679a5bd",
   "metadata": {},
   "source": [
    "# -- User input section\n",
    "# Enter Product List Size : 4\n",
    "# Enter Product 1 -\n",
    "# Samosa\n",
    "# Enter Product 2 -\n",
    "# Kachori\n",
    "# Enter Product 3 -\n",
    "# Fafda\n",
    "# Enter Product 4 -\n",
    "# Jalebi\n",
    "\n",
    "# Enter Samosa Price :\n",
    "# 300/-\n",
    "# Enter Kachori Price :\n",
    "# 100/-\n",
    "# Enter Fafda Price :\n",
    "# 100/-\n",
    "# Enter Jalebi Price :\n",
    "# 200/-\n",
    "\n",
    "# Do You Want to add GST [Y/N]\n",
    "# [note : if user select `N` Print bill without GST]\n",
    "# [Note User select yes `Y`]\n",
    "# Enter GST % = 18\n",
    "# -------Out put -------\n",
    "\n",
    "# 1. Samosa = 300/-\n",
    "# 2. Kachori = 100/-\n",
    "# 3. Fafda = 100/-\n",
    "# 4. Jalebi = 200/-\n",
    "# -------------------\n",
    "# Total = 700\n",
    "# GST = 18%\n",
    "# -------------------\n",
    "# Final Total = 826/-"
   ]
  },
  {
   "cell_type": "code",
   "execution_count": 6,
   "id": "90a80d1f",
   "metadata": {},
   "outputs": [
    {
     "ename": "IndentationError",
     "evalue": "unexpected indent (1229265442.py, line 20)",
     "output_type": "error",
     "traceback": [
      "\u001b[1;36m  Cell \u001b[1;32mIn[6], line 20\u001b[1;36m\u001b[0m\n\u001b[1;33m    if yes == y\u001b[0m\n\u001b[1;37m    ^\u001b[0m\n\u001b[1;31mIndentationError\u001b[0m\u001b[1;31m:\u001b[0m unexpected indent\n"
     ]
    }
   ],
   "source": [
    "product=[]\n",
    "product_price=[]\n",
    "gst=[]\n",
    "\n",
    "size = int(input(\"Enter the number of products: \"))\n",
    "\n",
    "for i in range(size):\n",
    "    i = (input(\"Enter Item Name:\"))\n",
    "    product.append(i)\n",
    "\n",
    "# for i in range(size):\n",
    "#     print(product[i])\n",
    "\n",
    "\n",
    "for i in range(size):\n",
    "    i = int(input(\"Enter price of items\"))\n",
    "    product_price.append(i)\n",
    "\n",
    "yes = input(\"Do you want to add gst[y/n]\")\n",
    "    if yes == y \n",
    "    gst=int(input(\"GST applicabe:\"))\n",
    "    total = 0\n",
    "    for i in range(size):\n",
    "        total = total + product_price[i]\n",
    "        print((i+1),'. ',product[i],' => ',product_price[i],'/-')\n",
    "    gstamount = total*gst/100\n",
    "    mrp = gstamount+total\n",
    "    print('GST % ',gst)\n",
    "    print('GST Amount =>  ',gstamount,'/-')    \n",
    "    print('MRP [include GST : ]',mrp)\n",
    "    else:\n",
    "    total = 0\n",
    "    for i in range(size):\n",
    "        total = total + price[i]\n",
    "        print((i+1),'. ',product[i],' => ',price[i],'/-')\n",
    "\n",
    "    print('-----------------------------------------')\n",
    "    print(\"total without GST = \",total)\n",
    "# for i in range(size):\n",
    "#     print(product[i], \"=\",product_price[i])\n",
    "\n"
   ]
  },
  {
   "cell_type": "code",
   "execution_count": null,
   "id": "7e2afa39",
   "metadata": {},
   "outputs": [],
   "source": []
  },
  {
   "cell_type": "code",
   "execution_count": null,
   "id": "3b57885c",
   "metadata": {},
   "outputs": [],
   "source": []
  },
  {
   "cell_type": "code",
   "execution_count": null,
   "id": "f6ff546b",
   "metadata": {},
   "outputs": [],
   "source": []
  },
  {
   "cell_type": "code",
   "execution_count": null,
   "id": "e4284680",
   "metadata": {},
   "outputs": [],
   "source": []
  },
  {
   "cell_type": "code",
   "execution_count": null,
   "id": "263cb5ac",
   "metadata": {},
   "outputs": [],
   "source": []
  }
 ],
 "metadata": {
  "kernelspec": {
   "display_name": "Python 3",
   "language": "python",
   "name": "python3"
  },
  "language_info": {
   "codemirror_mode": {
    "name": "ipython",
    "version": 3
   },
   "file_extension": ".py",
   "mimetype": "text/x-python",
   "name": "python",
   "nbconvert_exporter": "python",
   "pygments_lexer": "ipython3",
   "version": "3.12.7"
  }
 },
 "nbformat": 4,
 "nbformat_minor": 5
}
