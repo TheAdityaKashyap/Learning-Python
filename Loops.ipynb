{
 "cells": [
  {
   "cell_type": "code",
   "execution_count": 22,
   "id": "50da1996",
   "metadata": {},
   "outputs": [
    {
     "name": "stdout",
     "output_type": "stream",
     "text": [
      "A\n",
      "B\n",
      "C\n",
      "D\n",
      "E\n",
      "F\n",
      "G\n",
      "H\n",
      "I\n",
      "J\n",
      "K\n",
      "L\n",
      "M\n",
      "N\n",
      "O\n",
      "P\n",
      "Q\n",
      "R\n",
      "S\n",
      "T\n",
      "U\n",
      "V\n",
      "W\n",
      "X\n",
      "Y\n",
      "Z\n"
     ]
    }
   ],
   "source": [
    "start = str(input(\"enter Start Start: )\"))\n",
    "end = str(input(\"enter End End: \"))\n",
    "\n",
    "start_Alpha = ord(start)\n",
    "end_Alpha = ord(end)\n",
    "\n",
    "\n",
    "for i in range(start_Alpha, end_Alpha +1):\n",
    "    print(chr(i))\n",
    "\n",
    "# for i (start, end+1)\n",
    "# print(i)\n"
   ]
  },
  {
   "cell_type": "code",
   "execution_count": 40,
   "id": "1ce83728",
   "metadata": {},
   "outputs": [
    {
     "name": "stdout",
     "output_type": "stream",
     "text": [
      "1\n",
      "3\n",
      "5\n",
      "7\n",
      "9\n",
      "11\n",
      "13\n",
      "15\n",
      "17\n",
      "19\n"
     ]
    }
   ],
   "source": [
    "for i in range(1,21):\n",
    "    if i%2 >= 1:\n",
    "        print(i)\n",
    "    "
   ]
  },
  {
   "cell_type": "code",
   "execution_count": 54,
   "id": "26c876ec",
   "metadata": {},
   "outputs": [
    {
     "name": "stdout",
     "output_type": "stream",
     "text": [
      "55\n"
     ]
    }
   ],
   "source": [
    "start= int(input(\"Enter your Start number:\"))\n",
    "end= int(input(\"Enter your End number:\"))\n",
    "\n",
    "sum=0\n",
    "for i in range(start,end+1):\n",
    "    sum = sum+i\n",
    "\n",
    "print(sum)\n",
    "\n",
    "    # print(1)\n",
    "\n",
    "    # total = i +range\n",
    "    # print(total)\n",
    "   \n",
    "    "
   ]
  },
  {
   "cell_type": "code",
   "execution_count": 57,
   "id": "cc56aa49",
   "metadata": {},
   "outputs": [
    {
     "name": "stdout",
     "output_type": "stream",
     "text": [
      "25\n"
     ]
    }
   ],
   "source": [
    "start= int(input(\"Enter your Start number:\"))\n",
    "end= int(input(\"Enter your End number:\"))\n",
    "\n",
    "sum=0\n",
    "# for i in range(start,end+1):\n",
    "#     sum = sum+i\n",
    "\n",
    "for i in range(start, end+1):\n",
    "    if i%2 >= 1:\n",
    "        # print(i)\n",
    "        sum = sum+i\n",
    "\n",
    "\n",
    "print(sum)"
   ]
  },
  {
   "cell_type": "code",
   "execution_count": 66,
   "id": "3220dcf0",
   "metadata": {},
   "outputs": [
    {
     "name": "stdout",
     "output_type": "stream",
     "text": [
      "W\n",
      "e\n",
      "l\n",
      "c\n",
      "o\n",
      "m\n"
     ]
    }
   ],
   "source": [
    "char = str(input(\"Enter your Word\"))\n",
    "\n",
    "# length= (len(char))\n",
    "for i in char:\n",
    "    print(i)\n",
    "\n",
    "\n",
    "# print(len(char))"
   ]
  },
  {
   "cell_type": "code",
   "execution_count": 73,
   "id": "49d76521",
   "metadata": {},
   "outputs": [
    {
     "name": "stdout",
     "output_type": "stream",
     "text": [
      "7\n"
     ]
    }
   ],
   "source": [
    "data = \"welcome\"\n",
    "count = 0\n",
    "\n",
    "for i in data:\n",
    "    count += 1\n",
    "print(count)\n"
   ]
  },
  {
   "cell_type": "code",
   "execution_count": null,
   "id": "0c0d73f4",
   "metadata": {},
   "outputs": [],
   "source": []
  },
  {
   "cell_type": "code",
   "execution_count": null,
   "id": "b8186ff0",
   "metadata": {},
   "outputs": [
    {
     "name": "stdout",
     "output_type": "stream",
     "text": [
      "1\n",
      "2\n",
      "3\n",
      "4\n",
      "5\n",
      "6\n",
      "7\n",
      "8\n",
      "9\n",
      "10\n"
     ]
    }
   ],
   "source": [
    "# start point \n",
    "# end point\n",
    "# output\n",
    "# 1,2,3....\n",
    "\n",
    "i = 1\n",
    "while i <= 10:\n",
    "    print(i)\n",
    "    i = i +1"
   ]
  },
  {
   "cell_type": "code",
   "execution_count": 1,
   "id": "56a0a5bc",
   "metadata": {},
   "outputs": [
    {
     "name": "stdout",
     "output_type": "stream",
     "text": [
      "1\n",
      "2\n",
      "3\n",
      "4\n",
      "5\n",
      "Done\n"
     ]
    }
   ],
   "source": [
    "stop = int(input(\"Enter Stop number: \"))\n",
    "\n",
    "i = 0\n",
    "\n",
    "while (i < 100):\n",
    "    print(i+1)\n",
    "    i = i + 1\n",
    "    \n",
    "    if i == stop:\n",
    "        break\n",
    "\n",
    "print(\"Done\")\n",
    "    "
   ]
  },
  {
   "cell_type": "code",
   "execution_count": null,
   "id": "7e473fe8",
   "metadata": {},
   "outputs": [],
   "source": []
  },
  {
   "cell_type": "code",
   "execution_count": null,
   "id": "47472199",
   "metadata": {},
   "outputs": [],
   "source": []
  }
 ],
 "metadata": {
  "kernelspec": {
   "display_name": "Python 3",
   "language": "python",
   "name": "python3"
  },
  "language_info": {
   "codemirror_mode": {
    "name": "ipython",
    "version": 3
   },
   "file_extension": ".py",
   "mimetype": "text/x-python",
   "name": "python",
   "nbconvert_exporter": "python",
   "pygments_lexer": "ipython3",
   "version": "3.12.7"
  }
 },
 "nbformat": 4,
 "nbformat_minor": 5
}
