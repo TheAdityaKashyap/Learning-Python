{
 "cells": [
  {
   "cell_type": "markdown",
   "id": "b804abca",
   "metadata": {},
   "source": []
  },
  {
   "cell_type": "code",
   "execution_count": 3,
   "id": "a9f6b7bb",
   "metadata": {},
   "outputs": [
    {
     "name": "stdout",
     "output_type": "stream",
     "text": [
      "d is the largest number\n"
     ]
    }
   ],
   "source": [
    "a = 100\n",
    "b = 200\n",
    "c = 300\n",
    "d = 400\n",
    "\n",
    "if a > b and a > c and a > d:\n",
    "    print(\"a is the largest number\")\n",
    "elif b > a and b > c and b > d:\n",
    "    print(\"b is the largest number\")\n",
    "elif c > a and c > b and c > d: \n",
    "    print(\"c is the largest number\")    \n",
    "else:\n",
    "    print (\"d is the largest number\")\n"
   ]
  },
  {
   "cell_type": "code",
   "execution_count": 6,
   "id": "f8d6407e",
   "metadata": {},
   "outputs": [
    {
     "name": "stdout",
     "output_type": "stream",
     "text": [
      "Name: Aditya\n",
      "Roll No: 1234\n",
      "Java Marks - 100: 85\n",
      "C++ Marks- 100: 69\n",
      "Go Marks- 100: 87\n",
      "Python Marks- 100: 59\n",
      "JSP Marks- 100: 69\n",
      "Ruby Marks:- 100 68\n",
      "Total Marks: 437\n",
      "Percentage: 72.83333333333334\n",
      "Your Grade is B\n"
     ]
    }
   ],
   "source": [
    "Name = input(\"Enter your name: \")\n",
    "RollNo = input(\"Enter your roll number: \")\n",
    "Java = int(input(\"Enter your Java marks: \"))\n",
    "CPP = int(input(\"Enter your C++ marks: \"))\n",
    "Go = int(input(\"Enter your Go marks: \"))\n",
    "Python = int(input(\"Enter your Python marks: \"))\n",
    "JSP = int(input(\"Enter your JSP marks: \"))\n",
    "Ruby = int(input(\"Enter your Ruby marks: \"))\n",
    "\n",
    "print(\"Name:\", Name)\n",
    "print(\"Roll No:\", RollNo)   \n",
    "print(\"Java Marks - 100:\", Java)\n",
    "print(\"C++ Marks- 100:\", CPP)\n",
    "print(\"Go Marks- 100:\", Go)\n",
    "print(\"Python Marks- 100:\", Python)\n",
    "print(\"JSP Marks- 100:\", JSP)\n",
    "print(\"Ruby Marks:- 100\", Ruby)\n",
    "\n",
    "total = Java + CPP + Go + Python + JSP + Ruby\n",
    "\n",
    "print(\"Total Marks:\",total)\n",
    "\n",
    "percentage = total/600 * 100\n",
    "print(\"Percentage:\", percentage)\n",
    "\n",
    "if percentage < 30:\n",
    "    print(\"You Failed\")\n",
    "elif percentage >= 30 and percentage < 50:\n",
    "    print(\"Your Grade is C\")\n",
    "elif percentage >= 50 and percentage < 80:\n",
    "    print(\"Your Grade is B\")\n",
    "elif percentage >= 80 and percentage <= 100:\n",
    "    print(\"Your Grade is A\")"
   ]
  },
  {
   "cell_type": "code",
   "execution_count": null,
   "id": "a5b38f83",
   "metadata": {},
   "outputs": [],
   "source": []
  }
 ],
 "metadata": {
  "kernelspec": {
   "display_name": "Python 3",
   "language": "python",
   "name": "python3"
  },
  "language_info": {
   "codemirror_mode": {
    "name": "ipython",
    "version": 3
   },
   "file_extension": ".py",
   "mimetype": "text/x-python",
   "name": "python",
   "nbconvert_exporter": "python",
   "pygments_lexer": "ipython3",
   "version": "3.12.7"
  }
 },
 "nbformat": 4,
 "nbformat_minor": 5
}
