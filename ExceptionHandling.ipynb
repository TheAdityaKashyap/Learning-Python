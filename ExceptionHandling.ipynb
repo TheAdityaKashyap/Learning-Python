{
 "cells": [
  {
   "cell_type": "code",
   "execution_count": 1,
   "id": "e5b8a410",
   "metadata": {},
   "outputs": [
    {
     "name": "stdout",
     "output_type": "stream",
     "text": [
      "Hello\n"
     ]
    }
   ],
   "source": [
    "print(\"Hello\")"
   ]
  },
  {
   "cell_type": "code",
   "execution_count": 3,
   "id": "e569e515",
   "metadata": {},
   "outputs": [],
   "source": [
    "with open(\"test.txt\", \"w\") as file:\n",
    "    file.write(\"Hello, World!\")"
   ]
  },
  {
   "cell_type": "code",
   "execution_count": 4,
   "id": "8a20f914",
   "metadata": {},
   "outputs": [
    {
     "name": "stdout",
     "output_type": "stream",
     "text": [
      "Hello, World!\n"
     ]
    }
   ],
   "source": [
    "with open(\"test.txt\", \"r\") as file:\n",
    "    content = file.read()\n",
    "    print(content)"
   ]
  },
  {
   "cell_type": "code",
   "execution_count": 10,
   "id": "a4a1a246",
   "metadata": {},
   "outputs": [],
   "source": [
    "with open(\"test.txt\", \"a\") as file:\n",
    "    file.write(\"\\n This is in lecture 11 in codewithpankaj.\")"
   ]
  },
  {
   "cell_type": "code",
   "execution_count": 11,
   "id": "42a3229a",
   "metadata": {},
   "outputs": [
    {
     "name": "stdout",
     "output_type": "stream",
     "text": [
      "Hello, World!\n",
      " This is in lecture 11 in codewithpankaj.\n"
     ]
    }
   ],
   "source": [
    "with open(\"test.txt\", \"r\") as file:\n",
    "    content = file.read()\n",
    "    print(content)"
   ]
  },
  {
   "cell_type": "code",
   "execution_count": 13,
   "id": "52b8ad03",
   "metadata": {},
   "outputs": [
    {
     "name": "stdout",
     "output_type": "stream",
     "text": [
      "Hello aditya, you are 22 years old\n"
     ]
    }
   ],
   "source": [
    "name = str(input(\"Enter your name : \"))\n",
    "b = int(input(\"Enter your age: \"))\n",
    "\n",
    "print(f\"Hello {name}, you are {b} years old\")\n"
   ]
  },
  {
   "cell_type": "code",
   "execution_count": null,
   "id": "ae68ff22",
   "metadata": {},
   "outputs": [
    {
     "name": "stdout",
     "output_type": "stream",
     "text": [
      "Hello h, you are 5 years old\n",
      "Hello h, you are 5 years old\n",
      "Hello h, you are 5 years old\n"
     ]
    }
   ],
   "source": [
    "try:\n",
    "    name = str(input(\"Enter your name : \"))\n",
    "    b = int(input(\"Enter your age: \"))\n",
    "    print(f\"Hello {name}, you are {b} years old\")\n",
    "except ValueError:\n",
    "    for _ in range(3):\n",
    "        if "
   ]
  },
  {
   "cell_type": "code",
   "execution_count": null,
   "id": "59712685",
   "metadata": {},
   "outputs": [],
   "source": [
    "\n"
   ]
  },
  {
   "cell_type": "code",
   "execution_count": null,
   "id": "28e711b2",
   "metadata": {},
   "outputs": [],
   "source": []
  }
 ],
 "metadata": {
  "kernelspec": {
   "display_name": "Python 3",
   "language": "python",
   "name": "python3"
  },
  "language_info": {
   "codemirror_mode": {
    "name": "ipython",
    "version": 3
   },
   "file_extension": ".py",
   "mimetype": "text/x-python",
   "name": "python",
   "nbconvert_exporter": "python",
   "pygments_lexer": "ipython3",
   "version": "3.12.7"
  }
 },
 "nbformat": 4,
 "nbformat_minor": 5
}
