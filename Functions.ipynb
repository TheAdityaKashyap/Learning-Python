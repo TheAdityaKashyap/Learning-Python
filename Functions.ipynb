{
 "cells": [
  {
   "cell_type": "code",
   "execution_count": null,
   "id": "a4970374",
   "metadata": {},
   "outputs": [],
   "source": [
    "print(\"welcome\") # function \n",
    "\n",
    "print(sum([12,23,34,55]))\n",
    "print(min([12,23,34,55]))\n",
    "\n",
    "print(range(10))  # range function\n",
    "\n",
    "print(max([12,23,34,55]))"
   ]
  },
  {
   "cell_type": "code",
   "execution_count": null,
   "id": "4e381205",
   "metadata": {},
   "outputs": [],
   "source": [
    "def bill(price,tax):\n",
    "    gst_amount = price*tax/100\n",
    "    final_price = gst_amount + price\n",
    "    print(\"Price = ₹\",price,\"/-\")\n",
    "    print(\"Tax = \",tax,\"%\")\n",
    "    print(\"GST Amount = ₹\",gst_amount,\"/-\")\n",
    "    print(\"MRP = ₹\",final_price,\"/-\")\n",
    "    print(\"-------------------------\")"
   ]
  },
  {
   "cell_type": "code",
   "execution_count": 17,
   "id": "98be0a41",
   "metadata": {},
   "outputs": [],
   "source": [
    "def bill(price, qty, tax):\n",
    "    gst_amt = price*tax/100\n",
    "    final_without_tax = price * qty\n",
    "    final_with_tax = final_without_tax*tax/100\n",
    "    print(\"Price of Item = ₹\", price, \"/-\")\n",
    "    print(\"Quantity of your Item =\", qty, \"Nos\")\n",
    "    print(\"Tax = \",tax,\"%\")\n",
    "    print(\"GST Amount = ₹\",gst_amt,\"/-\")\n",
    "    print(\"MRP = ₹\",final_with_tax,\"/-\", \"Per unit\")\n",
    "    print(\"MRP = ₹\",price + final_with_tax * qty,\"/-\", \"Total Amount\")"
   ]
  },
  {
   "cell_type": "code",
   "execution_count": 20,
   "id": "ee56a19d",
   "metadata": {},
   "outputs": [
    {
     "name": "stdout",
     "output_type": "stream",
     "text": [
      "Price of Item = ₹ 300 /-\n",
      "Quantity of your Item = 10 Nos\n",
      "Tax =  18 %\n",
      "GST Amount = ₹ 54.0 /-\n",
      "MRP = ₹ 540.0 /- Per unit\n",
      "MRP = ₹ 5700.0 /- Total Amount\n"
     ]
    }
   ],
   "source": [
    "# bill(100, 21, 18)\n",
    "bill(300, 10, 18)"
   ]
  },
  {
   "cell_type": "code",
   "execution_count": null,
   "id": "af21e01d",
   "metadata": {},
   "outputs": [],
   "source": []
  },
  {
   "cell_type": "markdown",
   "id": "feb6b898",
   "metadata": {},
   "source": [
    "-- Input Section \n",
    "Loan Amount : =\n",
    "₹ 74,51,512\n",
    "Tenure (Years) := \n",
    "15\n",
    "Interest Rate (% P.A.) =\n",
    "5.19%\n",
    "\n",
    "-- output Section\n",
    "Monthly Home Loan EMI\n",
    "₹59,666\n",
    "View Details\n",
    "Principal Amount\n",
    "₹74,51,512\n",
    "Interest Amount\n",
    "₹32,88,408\n",
    "Total Amount Payable\n",
    "₹1,07,39,920"
   ]
  },
  {
   "cell_type": "code",
   "execution_count": 39,
   "id": "a058cf16",
   "metadata": {},
   "outputs": [],
   "source": [
    "\n",
    "Loan_Amount = int(input(\"Loan Amount (₹): \"))\n",
    "Tenure_Years = int(input(\"Tenure (in years): \"))\n",
    "Interest_Rate = float(input(\"Interest Rate (in % per annum): \"))\n",
    "\n",
    "def emi():\n",
    "    interest = Loan_Amount * Interest_Rate * Tenure_Years / 100\n",
    "    final_loan_amt = Loan_Amount + interest\n",
    "    final_emi = final_loan_amt / (Tenure_Years * 12)\n",
    "    print(\"Monthly Home Loan EMI:\", final_emi)\n",
    "    print(\"Principal Amount\", Loan_Amount)\n",
    "    print(\"Interest Amount\", final_loan_amt)\n",
    "    print(\"Total Amount Payable\", final_loan_amt)\n",
    "    \n"
   ]
  },
  {
   "cell_type": "code",
   "execution_count": 40,
   "id": "9302e30a",
   "metadata": {},
   "outputs": [
    {
     "name": "stdout",
     "output_type": "stream",
     "text": [
      "Monthly Home Loan EMI: 4541.666666666667\n",
      "Principal Amount 100000\n",
      "Interest Amount 109000.0\n",
      "Total Amount Payable 109000.0\n"
     ]
    }
   ],
   "source": [
    "emi()"
   ]
  }
 ],
 "metadata": {
  "kernelspec": {
   "display_name": "Python 3",
   "language": "python",
   "name": "python3"
  },
  "language_info": {
   "codemirror_mode": {
    "name": "ipython",
    "version": 3
   },
   "file_extension": ".py",
   "mimetype": "text/x-python",
   "name": "python",
   "nbconvert_exporter": "python",
   "pygments_lexer": "ipython3",
   "version": "3.12.7"
  }
 },
 "nbformat": 4,
 "nbformat_minor": 5
}
