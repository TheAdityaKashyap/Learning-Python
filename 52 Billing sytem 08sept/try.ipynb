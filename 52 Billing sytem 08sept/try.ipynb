{
 "cells": [
  {
   "cell_type": "code",
   "execution_count": 5,
   "id": "9e744c25",
   "metadata": {},
   "outputs": [
    {
     "name": "stdout",
     "output_type": "stream",
     "text": [
      "50\n"
     ]
    }
   ],
   "source": [
    "import module as m\n",
    "\n",
    "price = 10\n",
    "quantity = 5\n",
    "\n",
    "print(m.bill_without_gst(price, quantity))"
   ]
  },
  {
   "cell_type": "code",
   "execution_count": 28,
   "id": "78edd14f",
   "metadata": {},
   "outputs": [
    {
     "name": "stdout",
     "output_type": "stream",
     "text": [
      "The total bill without gst is:  100\n",
      "The gst percentage is:  18\n",
      "The gst amount is:  18.0\n",
      "The total bill with gst is:  118.0\n",
      "118.0\n"
     ]
    }
   ],
   "source": [
    "import module as m\n",
    "\n",
    "product= []\n",
    "\n",
    "product = str(input(\"Enter the product name: \"))\n",
    "price = int(input(\"Enter the price of the product: \"))  \n",
    "quantity = int(input(\"Enter the quantity of the product: \"))\n",
    "\n",
    "print(m.bill_with_gst(price, quantity, 18))"
   ]
  },
  {
   "cell_type": "code",
   "execution_count": null,
   "id": "1f24c76a",
   "metadata": {},
   "outputs": [
    {
     "data": {
      "text/plain": [
       "<module 'module' from 'c:\\\\Users\\\\LENOVO\\\\Documents\\\\GitHub\\\\Learning-Python\\\\52 Billing sytem 08sept\\\\module.py'>"
      ]
     },
     "execution_count": 27,
     "metadata": {},
     "output_type": "execute_result"
    }
   ],
   "source": [
    "import importlib\n",
    "import module as m\n",
    "importlib.reload(m)\n",
    "\n",
    "\n",
    "#importing module again to see the changes made in module.py file"
   ]
  },
  {
   "cell_type": "code",
   "execution_count": 37,
   "id": "fa8082f0",
   "metadata": {},
   "outputs": [
    {
     "name": "stdout",
     "output_type": "stream",
     "text": [
      "Do you want to add more products? (Y/N)\n",
      "Products you have: a, b, n\n",
      "\n",
      "Product: a\n",
      "The total bill without gst is:  100\n",
      "The gst percentage is:  18\n",
      "The gst amount is:  18.0\n",
      "The total bill with gst is:  118.0\n",
      "118.0\n",
      "\n",
      "Product: b\n",
      "The total bill without gst is:  40\n",
      "The gst percentage is:  18\n",
      "The gst amount is:  7.2\n",
      "The total bill with gst is:  47.2\n",
      "47.2\n",
      "\n",
      "Product: n\n",
      "The total bill without gst is:  30\n",
      "The gst percentage is:  18\n",
      "The gst amount is:  5.4\n",
      "The total bill with gst is:  35.4\n",
      "35.4\n"
     ]
    }
   ],
   "source": [
    "import module as m\n",
    "\n",
    "product= []\n",
    "\n",
    "product = str(input(\"Enter the product name: \"))\n",
    "print(\"Do you want to add more products? (Y/N)\")\n",
    "\n",
    "while True:\n",
    "    choice = input().upper()\n",
    "    if choice == 'Y':\n",
    "        new_product = str(input(\"Enter the product name: \"))\n",
    "        product = product + \", \" + new_product\n",
    "    elif choice == 'N':\n",
    "        print(\"Products you have:\", product)\n",
    "        break\n",
    "    else:\n",
    "        print(\"Invalid input. Please enter Y or N.\")\n",
    "\n",
    "for i in product.split(\", \"):\n",
    "    print(f\"\\nProduct: {i}\")\n",
    "    price = int(input(\"Enter the price of the product: \"))\n",
    "    quantity = int(input(\"Enter the quantity of the product: \"))\n",
    "    print(m.bill_with_gst(price, quantity, 18))"
   ]
  },
  {
   "cell_type": "code",
   "execution_count": null,
   "id": "ac3692c1",
   "metadata": {},
   "outputs": [],
   "source": []
  }
 ],
 "metadata": {
  "kernelspec": {
   "display_name": "Python 3",
   "language": "python",
   "name": "python3"
  },
  "language_info": {
   "codemirror_mode": {
    "name": "ipython",
    "version": 3
   },
   "file_extension": ".py",
   "mimetype": "text/x-python",
   "name": "python",
   "nbconvert_exporter": "python",
   "pygments_lexer": "ipython3",
   "version": "3.12.7"
  }
 },
 "nbformat": 4,
 "nbformat_minor": 5
}
