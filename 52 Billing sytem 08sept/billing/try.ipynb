{
 "cells": [
  {
   "cell_type": "code",
   "execution_count": 1,
   "id": "abe5a3e0",
   "metadata": {},
   "outputs": [
    {
     "name": "stdout",
     "output_type": "stream",
     "text": [
      "\n",
      "------- Output -------\n",
      "1. aditya (1 x 10.0) = 10.0/-\n",
      "--------------------\n",
      "Total = 10.0\n",
      "GST = 18.0%\n",
      "--------------------\n",
      "Final Total = 12/-\n",
      "--------------------\n"
     ]
    }
   ],
   "source": [
    "from products import get_products\n",
    "from billing import calculate_total, apply_gst\n",
    "from printer import print_bill\n",
    "\n",
    "\n",
    "def main():\n",
    "    products, prices, quantities = get_products()\n",
    "    total = calculate_total(prices, quantities)\n",
    "    gst_percent, final_total = apply_gst(total)\n",
    "    print_bill(products, prices, quantities, total, gst_percent, final_total)\n",
    "\n",
    "\n",
    "if __name__ == \"__main__\":\n",
    "    main()\n"
   ]
  },
  {
   "cell_type": "code",
   "execution_count": null,
   "id": "83cdb64b",
   "metadata": {},
   "outputs": [],
   "source": []
  }
 ],
 "metadata": {
  "kernelspec": {
   "display_name": "Python 3",
   "language": "python",
   "name": "python3"
  },
  "language_info": {
   "codemirror_mode": {
    "name": "ipython",
    "version": 3
   },
   "file_extension": ".py",
   "mimetype": "text/x-python",
   "name": "python",
   "nbconvert_exporter": "python",
   "pygments_lexer": "ipython3",
   "version": "3.12.7"
  }
 },
 "nbformat": 4,
 "nbformat_minor": 5
}
