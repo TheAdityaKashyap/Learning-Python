{
 "cells": [
  {
   "cell_type": "code",
   "execution_count": 2,
   "id": "abe5a3e0",
   "metadata": {},
   "outputs": [
    {
     "name": "stdout",
     "output_type": "stream",
     "text": [
      "\n",
      "------- Output -------\n",
      "1. adit (1 x 100.0) = 100.0/-\n",
      "2. 2 (200 x 200.0) = 40000.0/-\n",
      "--------------------\n",
      "Total = 40100.0\n",
      "GST = 18.0%\n",
      "--------------------\n",
      "Final Total = 47318/-\n",
      "--------------------\n"
     ]
    }
   ],
   "source": [
    "from products import get_products\n",
    "from billing import calculate_total, apply_gst\n",
    "from printer import print_bill\n",
    "\n",
    "\n",
    "def main():\n",
    "    products, prices, quantities = get_products()\n",
    "    total = calculate_total(prices, quantities)\n",
    "    gst_percent, final_total = apply_gst(total)\n",
    "    print_bill(products, prices, quantities, total, gst_percent, final_total)\n",
    "\n",
    "\n",
    "if __name__ == \"__main__\":\n",
    "    main()\n"
   ]
  },
  {
   "cell_type": "code",
   "execution_count": 8,
   "id": "83cdb64b",
   "metadata": {},
   "outputs": [
    {
     "name": "stdout",
     "output_type": "stream",
     "text": [
      "welcome\n",
      "your room price is: 8000\n",
      "thank you\n"
     ]
    }
   ],
   "source": [
    "print(\"welcome\")\n",
    "\n",
    "rooms = {\"deluxe\":7000, \"super deluxe\":8000, \"suite\":10000}\n",
    "myroom = input(\"enter your room type:\")\n",
    "\n",
    "if myroom in rooms:\n",
    "    print(\"your room price is:\", rooms[myroom])\n",
    "else:\n",
    "    print(\"invalid room type\")\n",
    "\n",
    "print(\"thank you\")"
   ]
  },
  {
   "cell_type": "code",
   "execution_count": null,
   "id": "b2984ec0",
   "metadata": {},
   "outputs": [],
   "source": []
  }
 ],
 "metadata": {
  "kernelspec": {
   "display_name": "Python 3",
   "language": "python",
   "name": "python3"
  },
  "language_info": {
   "codemirror_mode": {
    "name": "ipython",
    "version": 3
   },
   "file_extension": ".py",
   "mimetype": "text/x-python",
   "name": "python",
   "nbconvert_exporter": "python",
   "pygments_lexer": "ipython3",
   "version": "3.12.7"
  }
 },
 "nbformat": 4,
 "nbformat_minor": 5
}
