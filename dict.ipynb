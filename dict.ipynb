{
 "cells": [
  {
   "cell_type": "markdown",
   "id": "a5b1a4ef",
   "metadata": {},
   "source": [
    "# --- input Section ---\n",
    "# Enter SKU ( Unique Number ) : 101\n",
    "# Enter Product Name : Books\n",
    "# Enter Product QT : 20\n",
    "# Enter Single Book Price : 120/-\n",
    "\n",
    "# Do you Want Add more [Y/N]\n",
    "# Y\n",
    "# Enter SKU ( Unique Number ) : 102\n",
    "# Enter Product Name : toy\n",
    "# Enter Product QT : 5\n",
    "# Enter Single Book Price : 560/-\n",
    "\n",
    "# Do you Want Add more [Y/N]\n",
    "# Y\n",
    "# Enter SKU ( Unique Number ) : 103\n",
    "# Enter Product Name : Samosa\n",
    "# Enter Product QT : 250\n",
    "# Enter Single Book Price : 20/-\n",
    "\n",
    "# Do you Want Add more [Y/N]\n",
    "# N\n",
    "# --- Output Section---------\n",
    "# ------  Search Item ------\n",
    "# Enter Product Item Form SKU No. 103\n",
    "# Total Cost : 5000/-\n",
    "# Product Name : Samosa\n",
    "# QT : 250 \n",
    "# Single Price : 20/-"
   ]
  },
  {
   "cell_type": "code",
   "execution_count": 1,
   "id": "ae71415e",
   "metadata": {},
   "outputs": [
    {
     "ename": "SyntaxError",
     "evalue": "invalid syntax (2685141223.py, line 50)",
     "output_type": "error",
     "traceback": [
      "\u001b[1;36m  Cell \u001b[1;32mIn[1], line 50\u001b[1;36m\u001b[0m\n\u001b[1;33m    data.append(\"Sku\" : \"\")\u001b[0m\n\u001b[1;37m                      ^\u001b[0m\n\u001b[1;31mSyntaxError\u001b[0m\u001b[1;31m:\u001b[0m invalid syntax\n"
     ]
    }
   ],
   "source": [
    "data = {}\n",
    "\n",
    "# for i in range(size):\n",
    "#     i = (input(\"Enter Item Name:\"))\n",
    "#     product.append(i)\n",
    "\n",
    "# # for i in range(size):\n",
    "# #     print(product[i])\n",
    "\n",
    "\n",
    "# for i in range(size):\n",
    "#     i = int(input(\"Enter price of items\"))\n",
    "#     product_price.append(i)\n",
    "\n",
    "# for i in range(size):\n",
    "#     print(product[i], \"=\",product_price[i])\n",
    "\n",
    "\n",
    "# size = int(input(\"Enter how many products are there:\"))\n",
    "\n",
    "\n",
    "\n",
    "sku1= int(input(\"enter sku (Unique Number)\"))\n",
    "product_name1 = str(input(\"Enter Product Name:\"))\n",
    "product_qty1 = int(input(\"enter quantity of product:\"))\n",
    "price1 = int(input(\"Enter price of single Product\"))\n",
    "list1 = [sku1, product_name1, product_qty1, price1]\n",
    "\n",
    "sku2= int(input(\"enter sku (Unique Number)\"))\n",
    "product_name2 = str(input(\"Enter Product Name:\"))\n",
    "product_qty2 = int(input(\"enter quantity of product:\"))\n",
    "price2 = int(input(\"Enter price of single Product\"))\n",
    "list2 = [sku2, product_name2, product_qty2, price2]\n",
    "\n",
    "\n",
    "sku3= int(input(\"enter sku (Unique Number)\"))\n",
    "product_name3 = str(input(\"Enter Product Name:\"))\n",
    "product_qty3 = int(input(\"enter quantity of product:\"))\n",
    "price3 = int(input(\"Enter price of single Product\"))\n",
    "list3 = [sku3, product_name3, product_qty3, price3]\n",
    "\n",
    "sku4= int(input(\"enter sku (Unique Number)\"))\n",
    "product_name4 = str(input(\"Enter Product Name:\"))\n",
    "product_qty4 = int(input(\"enter quantity of product:\"))\n",
    "price4 = int(input(\"Enter price of single Product\"))\n",
    "list4 = [sku4, product_name4, product_qty4, price4]\n",
    "\n",
    "\n",
    "\n",
    "data.append(\"Sku\" : \"\")\n",
    "\n",
    "print(data())\n",
    "\n",
    "\n",
    "\n",
    "\n"
   ]
  },
  {
   "cell_type": "code",
   "execution_count": 2,
   "id": "97b4ba33",
   "metadata": {},
   "outputs": [
    {
     "ename": "ValueError",
     "evalue": "invalid literal for int() with base 10: 'a'",
     "output_type": "error",
     "traceback": [
      "\u001b[1;31m---------------------------------------------------------------------------\u001b[0m",
      "\u001b[1;31mValueError\u001b[0m                                Traceback (most recent call last)",
      "Cell \u001b[1;32mIn[2], line 6\u001b[0m\n\u001b[0;32m      4\u001b[0m sku \u001b[38;5;241m=\u001b[39m \u001b[38;5;28mint\u001b[39m(\u001b[38;5;28minput\u001b[39m(\u001b[38;5;124m\"\u001b[39m\u001b[38;5;124mEnter SKU (Unique Number): \u001b[39m\u001b[38;5;124m\"\u001b[39m))\n\u001b[0;32m      5\u001b[0m product_name \u001b[38;5;241m=\u001b[39m \u001b[38;5;28minput\u001b[39m(\u001b[38;5;124m\"\u001b[39m\u001b[38;5;124mEnter Product Name: \u001b[39m\u001b[38;5;124m\"\u001b[39m)\n\u001b[1;32m----> 6\u001b[0m product_qty \u001b[38;5;241m=\u001b[39m \u001b[38;5;28;43mint\u001b[39;49m\u001b[43m(\u001b[49m\u001b[38;5;28;43minput\u001b[39;49m\u001b[43m(\u001b[49m\u001b[38;5;124;43m\"\u001b[39;49m\u001b[38;5;124;43mEnter Product QT: \u001b[39;49m\u001b[38;5;124;43m\"\u001b[39;49m\u001b[43m)\u001b[49m\u001b[43m)\u001b[49m\n\u001b[0;32m      7\u001b[0m product_price \u001b[38;5;241m=\u001b[39m \u001b[38;5;28mint\u001b[39m(\u001b[38;5;28minput\u001b[39m(\u001b[38;5;124m\"\u001b[39m\u001b[38;5;124mEnter Single Product Price: \u001b[39m\u001b[38;5;124m\"\u001b[39m))\n\u001b[0;32m      9\u001b[0m data[sku] \u001b[38;5;241m=\u001b[39m {\n\u001b[0;32m     10\u001b[0m     \u001b[38;5;124m\"\u001b[39m\u001b[38;5;124mname\u001b[39m\u001b[38;5;124m\"\u001b[39m: product_name,\n\u001b[0;32m     11\u001b[0m     \u001b[38;5;124m\"\u001b[39m\u001b[38;5;124mqty\u001b[39m\u001b[38;5;124m\"\u001b[39m: product_qty,\n\u001b[0;32m     12\u001b[0m     \u001b[38;5;124m\"\u001b[39m\u001b[38;5;124mprice\u001b[39m\u001b[38;5;124m\"\u001b[39m: product_price\n\u001b[0;32m     13\u001b[0m }\n",
      "\u001b[1;31mValueError\u001b[0m: invalid literal for int() with base 10: 'a'"
     ]
    }
   ],
   "source": [
    "data = {}  \n",
    "\n",
    "while True:\n",
    "    sku = int(input(\"Enter SKU (Unique Number): \"))\n",
    "    product_name = input(\"Enter Product Name: \")\n",
    "    product_qty = int(input(\"Enter Product QT: \"))\n",
    "    product_price = int(input(\"Enter Single Product Price: \"))\n",
    "\n",
    "    data[sku] = {\n",
    "        \"name\": product_name,\n",
    "        \"qty\": product_qty,\n",
    "        \"price\": product_price\n",
    "    }\n",
    "\n",
    "    more = input(\"Do you Want Add more [Y/N]: \").strip().lower()\n",
    "    if more != 'y':\n",
    "        break\n",
    "\n",
    "print(\"\\n--- Output Section ---------\")\n",
    "print(\"------  Search Item ------\")\n",
    "\n",
    "search_sku = int(input(\"Enter Product Item Form SKU No.: \"))\n",
    "\n",
    "if search_sku in data:\n",
    "    item = data[search_sku]\n",
    "    total_cost = item[\"qty\"] * item[\"price\"]\n",
    "    print(f\"Total Cost : {total_cost}/-\")\n",
    "    print(f\"Product Name : {item['name']}\")\n",
    "    print(f\"QT : {item['qty']}\")\n",
    "    print(f\"Single Price : {item['price']}/-\")\n",
    "else:\n",
    "    print(\"Item not found!\")\n"
   ]
  },
  {
   "cell_type": "code",
   "execution_count": null,
   "id": "e272676c",
   "metadata": {},
   "outputs": [
    {
     "name": "stdout",
     "output_type": "stream",
     "text": [
      "Second largest number = 17\n"
     ]
    }
   ],
   "source": [
    "# Example :  Data [ 1 , 2 , 4 , 5 , 7 , 8 , 9 , 5 ]\n",
    "# Second largest number = 9\n",
    "\n",
    "data = [1, 2,44, 5, 17, 8, 9, 5]\n",
    "\n",
    "cnvt = set(data)  \n",
    "srt = sorted(cnvt)\n",
    "\n",
    "\n",
    "second_largest = srt[-2] \n",
    "print(f\"Second largest number = {second_largest}\")"
   ]
  },
  {
   "cell_type": "code",
   "execution_count": null,
   "id": "09bc2cca",
   "metadata": {},
   "outputs": [],
   "source": []
  }
 ],
 "metadata": {
  "kernelspec": {
   "display_name": "Python 3",
   "language": "python",
   "name": "python3"
  },
  "language_info": {
   "codemirror_mode": {
    "name": "ipython",
    "version": 3
   },
   "file_extension": ".py",
   "mimetype": "text/x-python",
   "name": "python",
   "nbconvert_exporter": "python",
   "pygments_lexer": "ipython3",
   "version": "3.12.7"
  }
 },
 "nbformat": 4,
 "nbformat_minor": 5
}
