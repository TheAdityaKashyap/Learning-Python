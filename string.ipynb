{
 "cells": [
  {
   "cell_type": "code",
   "execution_count": null,
   "id": "f8e471fc",
   "metadata": {},
   "outputs": [
    {
     "name": "stdout",
     "output_type": "stream",
     "text": [
      "w\n",
      "e\n",
      "l\n",
      "c\n",
      "o\n",
      "m\n",
      "e\n",
      "2\n"
     ]
    }
   ],
   "source": [
    "data = \"welcome\"\n",
    "# for i in data:\n",
    "#     print(i)\n",
    "\n",
    "# print(data.find(\"e\"))\n",
    "\n",
    "for i in data:\n",
    "    print(i)\n",
    "\n",
    "print(\"The Letter e is repeated\", data.count(\"e\"), \"Times.\")"
   ]
  },
  {
   "cell_type": "code",
   "execution_count": null,
   "id": "9e700fe2",
   "metadata": {},
   "outputs": [],
   "source": []
  }
 ],
 "metadata": {
  "kernelspec": {
   "display_name": "Python 3",
   "language": "python",
   "name": "python3"
  },
  "language_info": {
   "codemirror_mode": {
    "name": "ipython",
    "version": 3
   },
   "file_extension": ".py",
   "mimetype": "text/x-python",
   "name": "python",
   "nbconvert_exporter": "python",
   "pygments_lexer": "ipython3",
   "version": "3.12.7"
  }
 },
 "nbformat": 4,
 "nbformat_minor": 5
}
