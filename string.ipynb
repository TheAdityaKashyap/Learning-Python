{
 "cells": [
  {
   "cell_type": "code",
   "execution_count": 1,
   "id": "49be79ed",
   "metadata": {},
   "outputs": [
    {
     "name": "stdout",
     "output_type": "stream",
     "text": [
      "aditya kashyap\n"
     ]
    }
   ],
   "source": [
    "name= \"aditya\"\n",
    "surname = \"kashyap\"\n",
    "\n",
    "fullname = name + \" \" + surname\n",
    "\n",
    "print(fullname)"
   ]
  },
  {
   "cell_type": "code",
   "execution_count": 32,
   "id": "47c7626d",
   "metadata": {},
   "outputs": [
    {
     "name": "stdout",
     "output_type": "stream",
     "text": [
      "what is the capital of india\n",
      "The answer is delhi\n"
     ]
    }
   ],
   "source": [
    "answer = \"delhi\"\n",
    "\n",
    "print(\"what is the capital of india\")\n",
    "\n",
    "knwl = input(\"Do you know the answer: y/n\")\n",
    "\n",
    "lenofanswer = len(answer)\n",
    "\n",
    "if knwl == \"y\":\n",
    "    yourlen = int(input(\"What is the length of your answer: \"))\n",
    "    if yourlen == lenofanswer:\n",
    "            print(\"Correct\")\n",
    "            chr1 = input(\"What is the first character of your answer: \")\n",
    "            if chr1 == answer[0]:\n",
    "                print(\"Correct\")\n",
    "                if chr1 == answer[0]:\n",
    "                    print(\"Correct\")\n",
    "                chr2 = input(\"What is the second character of your answer: \")\n",
    "                if chr2 == answer[1]:\n",
    "                    print(\"Correct\")\n",
    "                    if chr2 == answer[1]:\n",
    "                        print(\"Correct\")\n",
    "                    chr3 = input(\"What is the third character of your answer: \")\n",
    "                    if chr3 == answer[2]:\n",
    "                        print(\"Correct\")\n",
    "                        chr4 = input(\"What is the fourth character of your answer: \")\n",
    "                        if chr4 == answer[3]:\n",
    "                            print(\"Correct\")\n",
    "                            if chr4 == answer[3]:\n",
    "                                chr5 = input(\"What is the fifth character of your answer: \")\n",
    "                                if chr5 == answer[4]:\n",
    "                                    print(\"absolutely correct\")\n",
    "                                else:\n",
    "                                    print(\"Incorrect\")\n",
    "                        else:\n",
    "                            print(\"Incorrect\")\n",
    "                    else:\n",
    "                        print(\"Incorrect\")\n",
    "                else:\n",
    "                    print(\"Incorrect\")\n",
    "            else:\n",
    "                print(\"Incorrect\")\n",
    "    else:\n",
    "            print(\"Incorrect\")\n",
    "\n",
    "elif knwl == \"n\":\n",
    "    print(\"The answer is\", answer)\n",
    "\n",
    "\n",
    "\n"
   ]
  },
  {
   "cell_type": "code",
   "execution_count": null,
   "id": "1acfe6b3",
   "metadata": {},
   "outputs": [],
   "source": []
  }
 ],
 "metadata": {
  "kernelspec": {
   "display_name": "Python 3",
   "language": "python",
   "name": "python3"
  },
  "language_info": {
   "codemirror_mode": {
    "name": "ipython",
    "version": 3
   },
   "file_extension": ".py",
   "mimetype": "text/x-python",
   "name": "python",
   "nbconvert_exporter": "python",
   "pygments_lexer": "ipython3",
   "version": "3.12.7"
  }
 },
 "nbformat": 4,
 "nbformat_minor": 5
}
