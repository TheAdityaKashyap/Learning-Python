{
 "cells": [
  {
   "cell_type": "code",
   "execution_count": 1,
   "id": "49be79ed",
   "metadata": {},
   "outputs": [
    {
     "name": "stdout",
     "output_type": "stream",
     "text": [
      "aditya kashyap\n"
     ]
    }
   ],
   "source": [
    "name= \"aditya\"\n",
    "surname = \"kashyap\"\n",
    "\n",
    "fullname = name + \" \" + surname\n",
    "\n",
    "print(fullname)"
   ]
  },
  {
   "cell_type": "code",
   "execution_count": null,
   "id": "a006acb7",
   "metadata": {},
   "outputs": [],
   "source": [
    "# Welcome to the Crossword Word Building Game!\n",
    "# Q: What is the captial of India?\n",
    "# Enter the character length of the answer: 5\n",
    "# Enter the answer character by character (max 5 characters):\n",
    "# Character 1: D\n",
    "# Character 2: E\n",
    "# Character 3: L\n",
    "# Character 4: H\n",
    "# Character 5: I\n",
    "# Answer → delhi"
   ]
  },
  {
   "cell_type": "code",
   "execution_count": 2,
   "id": "47c7626d",
   "metadata": {},
   "outputs": [
    {
     "name": "stdout",
     "output_type": "stream",
     "text": [
      "what is the capital of india\n",
      "Correct\n",
      "Correct\n",
      "Correct\n",
      "Correct\n",
      "Correct\n",
      "Correct\n",
      "Correct\n",
      "absolutely correct\n"
     ]
    }
   ],
   "source": [
    "\n",
    "\n",
    "\n",
    "answer = \"delhi\"\n",
    "\n",
    "print(\"what is the capital of india\")\n",
    "\n",
    "knwl = input(\"Do you know the answer: y/n\")\n",
    "\n",
    "lenofanswer = len(answer)\n",
    "\n",
    "if knwl == \"y\":\n",
    "    yourlen = int(input(\"What is the length of your answer: \"))\n",
    "    if yourlen == lenofanswer:\n",
    "            print(\"Correct\")\n",
    "            chr1 = input(\"What is the first character of your answer: \")\n",
    "\n",
    "            if chr1 == answer[0]:\n",
    "                print(\"Correct\")\n",
    "                if chr1 == answer[0]:\n",
    "                    print(\"Correct\")\n",
    "                chr2 = input(\"What is the second character of your answer: \")\n",
    "                if chr2 == answer[1]:\n",
    "                    print(\"Correct\")\n",
    "                    if chr2 == answer[1]:\n",
    "                        print(\"Correct\")\n",
    "                    chr3 = input(\"What is the third character of your answer: \")\n",
    "                    if chr3 == answer[2]:\n",
    "                        print(\"Correct\")\n",
    "                        chr4 = input(\"What is the fourth character of your answer: \")\n",
    "                        if chr4 == answer[3]:\n",
    "                            print(\"Correct\")\n",
    "                            if chr4 == answer[3]:\n",
    "                                chr5 = input(\"What is the fifth character of your answer: \")\n",
    "                                if chr5 == answer[4]:\n",
    "                                    print(\"absolutely correct\")\n",
    "                                else:\n",
    "                                    print(\"Incorrect\")\n",
    "                        else:\n",
    "                            print(\"Incorrect\")\n",
    "                    else:\n",
    "                        print(\"Incorrect\")\n",
    "                else:\n",
    "                    print(\"Incorrect\")\n",
    "            else:\n",
    "                print(\"Incorrect\")\n",
    "    else:\n",
    "            print(\"Incorrect\")\n",
    "\n",
    "elif knwl == \"n\":\n",
    "    print(\"The answer is\", answer)\n",
    "\n",
    "\n",
    "\n"
   ]
  },
  {
   "cell_type": "code",
   "execution_count": null,
   "id": "1acfe6b3",
   "metadata": {},
   "outputs": [],
   "source": [
    "# Welcome to the Crossword Word Building Game!\n",
    "# Q: What is the national animal of India?\n",
    "# Enter the maximum character length of the answer: 5\n",
    "# Enter the answer character by character (max 5 characters):\n",
    "# Character 1: T\n",
    "# Character 2: I\n",
    "# Character 3: G\n",
    "# Character 4: E\n",
    "# Character 5: R\n",
    "# Answer → TIGER\n",
    "\n",
    "# Choose a character from 'TIGER': I\n",
    "# Make a new word using 'I': Injection\n",
    "# ✅ Valid! Score updated.\n",
    "# Total Score = 7\n",
    "\n",
    "# Do you want to continue? (yes/no): yes\n",
    "\n",
    "# Choose a character from 'INJECTION': N\n",
    "# Make a new word using 'N': Nation\n",
    "# ✅ Valid! Score updated.\n",
    "# Total Score = 12\n",
    "\n",
    "# Do you want to continue? (yes/no): yes\n",
    "\n",
    "# Choose a character from 'NATION': A\n",
    "# Make a new word using 'A': Ant\n",
    "# ❌ Error: New word must be at least 6 characters long.\n",
    "# Try again: Another\n",
    "# ✅ Valid! Score updated.\n",
    "# Total Score = 17\n",
    "\n",
    "# Do you want to continue? (yes/no): no\n",
    "\n",
    "# Game Over.\n",
    "# Words used: ['TIGER', 'INJECTION', 'NATION', 'ANOTHER']\n",
    "# Final Score = 17"
   ]
  },
  {
   "cell_type": "code",
   "execution_count": 4,
   "id": "afbb7f6e",
   "metadata": {},
   "outputs": [
    {
     "name": "stdout",
     "output_type": "stream",
     "text": [
      "✅ Valid! Answer is: TIGER\n"
     ]
    }
   ],
   "source": [
    "# Welcome to the Crossword Word Building Game!\n",
    "# Q: What is the national animal of India?\n",
    "# Enter the maximum character length of the answer: 5\n",
    "# Enter the answer character by character (max 5 characters):\n",
    "# Character 1: T\n",
    "# Character 2: I\n",
    "# Character 3: G\n",
    "# Character 4: E\n",
    "# Character 5: R\n",
    "# Answer → TIGER\n",
    "\n",
    "answer1 = \"TIGER\"\n",
    "\n",
    "int_answer1 = int(input(\"Enter the maximum character length of the answer: \"))\n",
    "\n",
    "# Enter the answer character by character (max 5 characters):\n",
    "if int_answer1 == len(answer1):\n",
    "    for i in range(int_answer1):\n",
    "        char = input(f\"Character {i + 1}: \")\n",
    "        if char.upper() != answer1[i]:\n",
    "            print(f\"❌ Error: Character {i + 1} is incorrect.\")\n",
    "            break\n",
    "    else:\n",
    "        print(f\"✅ Valid! Answer is: {answer1}\")"
   ]
  },
  {
   "cell_type": "code",
   "execution_count": 5,
   "id": "73187ecc",
   "metadata": {},
   "outputs": [
    {
     "name": "stdout",
     "output_type": "stream",
     "text": [
      "Welcome to the Crossword Word Building Game!\n",
      "Q: What is the national animal of India?\n",
      "Answer : TIGER\n",
      "Choose a leeter from TIGER: \n",
      "Error: nw word must bee of 6 letter\n",
      "Valid  score update\n",
      "Total Score: 5\n",
      "Game Over\n",
      "Word Used : ['TIGER', '']\n",
      "Final Score: 5\n"
     ]
    }
   ],
   "source": [
    "score = 0\n",
    "word_used = []\n",
    "\n",
    "print(f\"Welcome to the Crossword Word Building Game!\")\n",
    "print(f\"Q: What is the national animal of India?\")\n",
    "max_len = int(input(\"Enter the max charchter lenghth of the anwer\"))\n",
    "\n",
    "answer = \"\"\n",
    "for i in range(max_len):\n",
    "    ch = input(f\"Character {i + 1}: \").upper()\n",
    "    answer += ch\n",
    "    \n",
    "print(f\"Answer : {answer}\")\n",
    "word_used.append(answer)\n",
    "score += len(answer)\n",
    "\n",
    "\n",
    "while True:\n",
    "    print(f\"Choose a leeter from {word_used[-1]}: \")\n",
    "    ch = input().upper()\n",
    "    \n",
    "    new_word = input(f\"Make  a new Word {ch}: \").capitalize()\n",
    "    \n",
    "    if len(new_word) < 6:\n",
    "        print(f\"Error: nw word must bee of 6 letter\")\n",
    "        new_word = input(f\"Try agan: \").capitalize()\n",
    "        \n",
    "    print(f\"Valid  score update\")\n",
    "    score += len(new_word)\n",
    "    word_used.append(new_word)\n",
    "    print(f\"Total Score: {score}\")\n",
    "    \n",
    "    cont = input(f\"DO you want to continue: \").lower()\n",
    "    if cont != 'yes':\n",
    "        break\n",
    "    \n",
    "\n",
    "print(f\"Game Over\")\n",
    "print(f\"Word Used : {word_used}\")\n",
    "print(f\"Final Score: {score}\")"
   ]
  },
  {
   "cell_type": "code",
   "execution_count": null,
   "id": "d75610ae",
   "metadata": {},
   "outputs": [],
   "source": []
  },
  {
   "cell_type": "code",
   "execution_count": null,
   "id": "20d99fe7",
   "metadata": {},
   "outputs": [],
   "source": []
  }
 ],
 "metadata": {
  "kernelspec": {
   "display_name": "Python 3",
   "language": "python",
   "name": "python3"
  },
  "language_info": {
   "codemirror_mode": {
    "name": "ipython",
    "version": 3
   },
   "file_extension": ".py",
   "mimetype": "text/x-python",
   "name": "python",
   "nbconvert_exporter": "python",
   "pygments_lexer": "ipython3",
   "version": "3.12.7"
  }
 },
 "nbformat": 4,
 "nbformat_minor": 5
}
