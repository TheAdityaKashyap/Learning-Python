{
 "cells": [
  {
   "cell_type": "code",
   "execution_count": 1,
   "id": "61915f8c",
   "metadata": {},
   "outputs": [
    {
     "name": "stdout",
     "output_type": "stream",
     "text": [
      "{}\n",
      "<class 'dict'>\n"
     ]
    }
   ],
   "source": [
    "data = {}\n",
    "print(data)\n",
    "print(type(data))"
   ]
  },
  {
   "cell_type": "code",
   "execution_count": 2,
   "id": "a0a9884e",
   "metadata": {},
   "outputs": [
    {
     "name": "stdout",
     "output_type": "stream",
     "text": [
      "set()\n",
      "<class 'set'>\n"
     ]
    }
   ],
   "source": [
    "#empty set\n",
    "data = set()\n",
    "print(data)\n",
    "print(type(data))"
   ]
  },
  {
   "cell_type": "code",
   "execution_count": 3,
   "id": "76cd7ede",
   "metadata": {},
   "outputs": [
    {
     "name": "stdout",
     "output_type": "stream",
     "text": [
      "{1, 34, 33, 22, 11}\n"
     ]
    }
   ],
   "source": [
    "data = {1,11,1,22,22,34,33,22}\n",
    "print(data)"
   ]
  },
  {
   "cell_type": "code",
   "execution_count": 4,
   "id": "9891c944",
   "metadata": {},
   "outputs": [
    {
     "name": "stdout",
     "output_type": "stream",
     "text": [
      "{11, 21, 22, 23, 24}\n"
     ]
    }
   ],
   "source": [
    "my_list = [21,22,23,24,11,11,21,22,24]\n",
    "data = set(my_list)\n",
    "print(data)"
   ]
  },
  {
   "cell_type": "code",
   "execution_count": 5,
   "id": "6aeb3a9a",
   "metadata": {},
   "outputs": [
    {
     "name": "stdout",
     "output_type": "stream",
     "text": [
      "{21, 22, 23, 14, 15}\n"
     ]
    }
   ],
   "source": [
    "data = {21,22,21,23,22,14,14,15}\n",
    "print(data)"
   ]
  },
  {
   "cell_type": "code",
   "execution_count": 6,
   "id": "d1b13172",
   "metadata": {},
   "outputs": [
    {
     "name": "stdout",
     "output_type": "stream",
     "text": [
      "{21, 22, 23, 77, 14, 15}\n"
     ]
    }
   ],
   "source": [
    "# add new item into set\n",
    "data.add(77)\n",
    "print(data)"
   ]
  },
  {
   "cell_type": "code",
   "execution_count": 7,
   "id": "f2821fe5",
   "metadata": {},
   "outputs": [
    {
     "name": "stdout",
     "output_type": "stream",
     "text": [
      "{67, 68, 77, 14, 15, 21, 22, 23, 33}\n"
     ]
    }
   ],
   "source": [
    "# add more then 1 \n",
    "new_data = [21,33,67,68,21]\n",
    "data.update(new_data)\n",
    "print(data)"
   ]
  },
  {
   "cell_type": "code",
   "execution_count": 8,
   "id": "1551b2bb",
   "metadata": {},
   "outputs": [
    {
     "name": "stdout",
     "output_type": "stream",
     "text": [
      "{67, 68, 77, 14, 15, 21, 22, 23, 33}\n"
     ]
    }
   ],
   "source": [
    "# remove \n",
    "data.discard(777)\n",
    "print(data)"
   ]
  },
  {
   "cell_type": "code",
   "execution_count": 9,
   "id": "e37e0894",
   "metadata": {},
   "outputs": [
    {
     "name": "stdout",
     "output_type": "stream",
     "text": [
      "{67, 68, 77, 14, 15, 22, 23, 33}\n"
     ]
    }
   ],
   "source": [
    "data.remove(21)\n",
    "print(data)"
   ]
  },
  {
   "cell_type": "code",
   "execution_count": 10,
   "id": "e25ba66a",
   "metadata": {},
   "outputs": [
    {
     "name": "stdout",
     "output_type": "stream",
     "text": [
      "{68, 77, 14, 15, 22, 23, 33}\n",
      "remove value -  67\n"
     ]
    }
   ],
   "source": [
    "value=data.pop()\n",
    "print(data)\n",
    "print(\"remove value - \",value)"
   ]
  },
  {
   "cell_type": "code",
   "execution_count": 11,
   "id": "6f895036",
   "metadata": {},
   "outputs": [
    {
     "name": "stdout",
     "output_type": "stream",
     "text": [
      "{77, 14, 15, 22, 23, 33}\n",
      "remove value -  68\n"
     ]
    }
   ],
   "source": [
    "value=data.pop()\n",
    "print(data)\n",
    "print(\"remove value - \",value)"
   ]
  },
  {
   "cell_type": "code",
   "execution_count": 12,
   "id": "52228d11",
   "metadata": {},
   "outputs": [],
   "source": [
    "data.clear()"
   ]
  },
  {
   "cell_type": "code",
   "execution_count": 13,
   "id": "28a4b524",
   "metadata": {},
   "outputs": [
    {
     "name": "stdout",
     "output_type": "stream",
     "text": [
      "set()\n"
     ]
    }
   ],
   "source": [
    "print(data)"
   ]
  },
  {
   "cell_type": "code",
   "execution_count": 14,
   "id": "77a93974",
   "metadata": {},
   "outputs": [
    {
     "name": "stdout",
     "output_type": "stream",
     "text": [
      "{21, 22, 23, 24, 27, 29, 30}\n",
      "{22, 23}\n",
      "{24, 21}\n",
      "{27, 29, 30}\n",
      "{21, 24, 27, 29, 30}\n"
     ]
    }
   ],
   "source": [
    "data1 = {21,22,23,24}\n",
    "data2 = {22,23,27,29,30}\n",
    "result = data1.union(data2)\n",
    "print(result)\n",
    "result = data1.intersection(data2)\n",
    "print(result)\n",
    "result = data1.difference(data2)\n",
    "print(result)\n",
    "result = data2.difference(data1)\n",
    "print(result)\n",
    "\n",
    "result = data2.symmetric_difference(data1)\n",
    "print(result)"
   ]
  },
  {
   "cell_type": "code",
   "execution_count": 15,
   "id": "2da72397",
   "metadata": {},
   "outputs": [
    {
     "name": "stdout",
     "output_type": "stream",
     "text": [
      "{'e', 'p', 'l', 'a'}\n"
     ]
    }
   ],
   "source": [
    "data = set(\"apple\")\n",
    "print(data)"
   ]
  },
  {
   "cell_type": "code",
   "execution_count": 16,
   "id": "0a4ee724",
   "metadata": {},
   "outputs": [
    {
     "name": "stdout",
     "output_type": "stream",
     "text": [
      "e\n",
      "p\n",
      "l\n",
      "a\n"
     ]
    }
   ],
   "source": [
    "for i in data:\n",
    "    print(i)"
   ]
  },
  {
   "cell_type": "code",
   "execution_count": null,
   "id": "34ee6a9a",
   "metadata": {},
   "outputs": [],
   "source": []
  }
 ],
 "metadata": {
  "kernelspec": {
   "display_name": "Python 3",
   "language": "python",
   "name": "python3"
  },
  "language_info": {
   "codemirror_mode": {
    "name": "ipython",
    "version": 3
   },
   "file_extension": ".py",
   "mimetype": "text/x-python",
   "name": "python",
   "nbconvert_exporter": "python",
   "pygments_lexer": "ipython3",
   "version": "3.12.7"
  }
 },
 "nbformat": 4,
 "nbformat_minor": 5
}
