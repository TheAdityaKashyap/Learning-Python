{
 "cells": [
  {
   "cell_type": "code",
   "execution_count": null,
   "id": "a7485577",
   "metadata": {},
   "outputs": [],
   "source": []
  },
  {
   "cell_type": "code",
   "execution_count": 2,
   "id": "09fd60cf",
   "metadata": {},
   "outputs": [
    {
     "name": "stdout",
     "output_type": "stream",
     "text": [
      "Hello Ji\n"
     ]
    }
   ],
   "source": [
    "print(\"Hello Ji\")\n"
   ]
  },
  {
   "cell_type": "code",
   "execution_count": 3,
   "id": "2f2b4da5",
   "metadata": {},
   "outputs": [
    {
     "name": "stdout",
     "output_type": "stream",
     "text": [
      "10\n"
     ]
    }
   ],
   "source": [
    "x= 10\n",
    "b= 5\n",
    "c = 5\n",
    "x = b\n",
    "b = c\n",
    "\n",
    "print(x+b)"
   ]
  },
  {
   "cell_type": "code",
   "execution_count": 5,
   "id": "2763f1e5",
   "metadata": {},
   "outputs": [
    {
     "name": "stdout",
     "output_type": "stream",
     "text": [
      "10\n"
     ]
    }
   ],
   "source": [
    "a = 3\n",
    "b = 20\n",
    "c = a\n",
    "a = 2\n",
    "x = c = a = b = 2\n",
    "c = e = 10\n",
    "e = a = 2\n",
    "a = e\n",
    "b = a + c\n",
    "x = e\n",
    "b = 2\n",
    "a = x + e\n",
    "print(a+e+x+b)\n"
   ]
  },
  {
   "cell_type": "code",
   "execution_count": null,
   "id": "1e9a3928",
   "metadata": {},
   "outputs": [],
   "source": []
  }
 ],
 "metadata": {
  "kernelspec": {
   "display_name": "Python 3",
   "language": "python",
   "name": "python3"
  },
  "language_info": {
   "codemirror_mode": {
    "name": "ipython",
    "version": 3
   },
   "file_extension": ".py",
   "mimetype": "text/x-python",
   "name": "python",
   "nbconvert_exporter": "python",
   "pygments_lexer": "ipython3",
   "version": "3.12.7"
  }
 },
 "nbformat": 4,
 "nbformat_minor": 5
}
