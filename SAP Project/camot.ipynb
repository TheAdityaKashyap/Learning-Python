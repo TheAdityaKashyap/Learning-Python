{
 "cells": [
  {
   "cell_type": "code",
   "execution_count": 2,
   "id": "d7143c2f",
   "metadata": {},
   "outputs": [
    {
     "ename": "AttributeError",
     "evalue": "module 'camelot' has no attribute 'read_pdf'",
     "output_type": "error",
     "traceback": [
      "\u001b[1;31m---------------------------------------------------------------------------\u001b[0m",
      "\u001b[1;31mAttributeError\u001b[0m                            Traceback (most recent call last)",
      "Cell \u001b[1;32mIn[2], line 7\u001b[0m\n\u001b[0;32m      4\u001b[0m file_path \u001b[38;5;241m=\u001b[39m \u001b[38;5;124mr\u001b[39m\u001b[38;5;124m\"\u001b[39m\u001b[38;5;124mC:\u001b[39m\u001b[38;5;124m\\\u001b[39m\u001b[38;5;124mUsers\u001b[39m\u001b[38;5;124m\\\u001b[39m\u001b[38;5;124mLENOVO\u001b[39m\u001b[38;5;124m\\\u001b[39m\u001b[38;5;124mDocuments\u001b[39m\u001b[38;5;124m\\\u001b[39m\u001b[38;5;124mPerformaInvoices WO- 3136 LARSEN & TOUBRO LIMITED.pdf\u001b[39m\u001b[38;5;124m\"\u001b[39m\n\u001b[0;32m      6\u001b[0m \u001b[38;5;66;03m# Read tables from the PDF (try 'lattice' first for bordered tables)\u001b[39;00m\n\u001b[1;32m----> 7\u001b[0m tables \u001b[38;5;241m=\u001b[39m \u001b[43mcamelot\u001b[49m\u001b[38;5;241;43m.\u001b[39;49m\u001b[43mread_pdf\u001b[49m(file_path, pages\u001b[38;5;241m=\u001b[39m\u001b[38;5;124m'\u001b[39m\u001b[38;5;124mall\u001b[39m\u001b[38;5;124m'\u001b[39m, flavor\u001b[38;5;241m=\u001b[39m\u001b[38;5;124m'\u001b[39m\u001b[38;5;124mlattice\u001b[39m\u001b[38;5;124m'\u001b[39m)\n\u001b[0;32m      9\u001b[0m \u001b[38;5;66;03m# Check how many tables were found\u001b[39;00m\n\u001b[0;32m     10\u001b[0m \u001b[38;5;28mprint\u001b[39m(\u001b[38;5;124mf\u001b[39m\u001b[38;5;124m\"\u001b[39m\u001b[38;5;124mTotal tables found: \u001b[39m\u001b[38;5;132;01m{\u001b[39;00mtables\u001b[38;5;241m.\u001b[39mn\u001b[38;5;132;01m}\u001b[39;00m\u001b[38;5;124m\"\u001b[39m)\n",
      "\u001b[1;31mAttributeError\u001b[0m: module 'camelot' has no attribute 'read_pdf'"
     ]
    }
   ],
   "source": [
    "import camelot\n",
    "\n",
    "# Path to your PDF file\n",
    "file_path = r\"C:\\Users\\LENOVO\\Documents\\PerformaInvoices WO- 3136 LARSEN & TOUBRO LIMITED.pdf\"\n",
    "\n",
    "# Read tables from the PDF (try 'lattice' first for bordered tables)\n",
    "tables = camelot.read_pdf(file_path, pages='all', flavor='lattice')\n",
    "\n",
    "# Check how many tables were found\n",
    "print(f\"Total tables found: {tables.n}\")\n",
    "\n",
    "# If tables were found, show and export them\n",
    "if tables.n > 0:\n",
    "    print(\"\\nFirst table preview:\")\n",
    "    print(tables[0].df.head())  # shows first few rows of first table\n",
    "    \n",
    "    # Export all tables to Excel\n",
    "    output_path = r\"C:\\Users\\LENOVO\\Documents\\Extracted_Tables.xlsx\"\n",
    "    tables.export(output_path, f='excel')\n",
    "    print(f\"\\n✅ All tables exported successfully to:\\n{output_path}\")\n",
    "else:\n",
    "    print(\"⚠️ No tables detected. Try changing the flavor to 'stream' below:\\n\")\n",
    "    print(\"tables = camelot.read_pdf(file_path, pages='all', flavor='stream')\")\n"
   ]
  },
  {
   "cell_type": "code",
   "execution_count": null,
   "id": "28f0215f",
   "metadata": {},
   "outputs": [],
   "source": []
  }
 ],
 "metadata": {
  "kernelspec": {
   "display_name": "Python 3",
   "language": "python",
   "name": "python3"
  },
  "language_info": {
   "codemirror_mode": {
    "name": "ipython",
    "version": 3
   },
   "file_extension": ".py",
   "mimetype": "text/x-python",
   "name": "python",
   "nbconvert_exporter": "python",
   "pygments_lexer": "ipython3",
   "version": "3.12.7"
  }
 },
 "nbformat": 4,
 "nbformat_minor": 5
}
