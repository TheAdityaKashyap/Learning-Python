{
 "cells": [
  {
   "cell_type": "code",
   "execution_count": null,
   "id": "8973a854",
   "metadata": {},
   "outputs": [
    {
     "name": "stdout",
     "output_type": "stream",
     "text": [
      "37.77777777777778\n"
     ]
    }
   ],
   "source": [
    "def fahr_to_celsius(f):\n",
    "    c = (f - 32) * 5 / 9\n",
    "    return c\n",
    "print(fahr_to_celsius(100))\n"
   ]
  },
  {
   "cell_type": "code",
   "execution_count": 6,
   "id": "9fda5df8",
   "metadata": {},
   "outputs": [
    {
     "name": "stdout",
     "output_type": "stream",
     "text": [
      "Password length OK\n",
      "strong hai\n"
     ]
    }
   ],
   "source": [
    "def checker(password):\n",
    "    if len(password) >= 8:\n",
    "        print(\"Password length OK\")\n",
    "    else:\n",
    "        print(\"Password must be 8 characters\")\n",
    "\n",
    "    if (any(c.isupper() for c in password) and\n",
    "        any(c.islower() for c in password) and\n",
    "        any(c.isdigit() for c in password) or\n",
    "        any(c in \"!@#$%^&*?\" for c in password)):\n",
    "        print(\"strong hai\")\n",
    "    else:\n",
    "        print(\"Weak Password - must contain uppercase, lowercase, digit, and special character\")\n",
    "\n",
    "pswrd = input(\"Enter your 8-character password: \")\n",
    "checker(pswrd)\n"
   ]
  },
  {
   "cell_type": "code",
   "execution_count": null,
   "id": "a2c571c3",
   "metadata": {},
   "outputs": [
    {
     "ename": "NameError",
     "evalue": "name 'qty' is not defined",
     "output_type": "error",
     "traceback": [
      "\u001b[1;31m---------------------------------------------------------------------------\u001b[0m",
      "\u001b[1;31mNameError\u001b[0m                                 Traceback (most recent call last)",
      "Cell \u001b[1;32mIn[9], line 11\u001b[0m\n\u001b[0;32m      8\u001b[0m         totl \u001b[38;5;241m=\u001b[39m totl \u001b[38;5;241m+\u001b[39m item_total  \n\u001b[0;32m      9\u001b[0m     \u001b[38;5;28;01mreturn\u001b[39;00m totl\n\u001b[1;32m---> 11\u001b[0m total \u001b[38;5;241m=\u001b[39m \u001b[43mtotal_price\u001b[49m\u001b[43m(\u001b[49m\u001b[43mcart\u001b[49m\u001b[43m)\u001b[49m\n\u001b[0;32m     12\u001b[0m \u001b[38;5;28mprint\u001b[39m(\u001b[38;5;124m\"\u001b[39m\u001b[38;5;124mTotal cart value is\u001b[39m\u001b[38;5;124m\"\u001b[39m, total)\n",
      "Cell \u001b[1;32mIn[9], line 7\u001b[0m, in \u001b[0;36mtotal_price\u001b[1;34m(cart)\u001b[0m\n\u001b[0;32m      4\u001b[0m totl \u001b[38;5;241m=\u001b[39m \u001b[38;5;241m0\u001b[39m   \n\u001b[0;32m      5\u001b[0m \u001b[38;5;28;01mfor\u001b[39;00m itm \u001b[38;5;129;01min\u001b[39;00m cart:   \n\u001b[1;32m----> 7\u001b[0m     item_total \u001b[38;5;241m=\u001b[39m \u001b[43mqty\u001b[49m \u001b[38;5;241m*\u001b[39m price\n\u001b[0;32m      8\u001b[0m     totl \u001b[38;5;241m=\u001b[39m totl \u001b[38;5;241m+\u001b[39m item_total  \n\u001b[0;32m      9\u001b[0m \u001b[38;5;28;01mreturn\u001b[39;00m totl\n",
      "\u001b[1;31mNameError\u001b[0m: name 'qty' is not defined"
     ]
    }
   ],
   "source": [
    "cart = [(\"apple\", 2, 30), (\"mango\", 3, 50), (\"cherry\", 5, 10), (\"banana\", 4, 20)]\n",
    "\n",
    "def total_price(cart):\n",
    "    totl = 0   \n",
    "    for itm in cart:   \n",
    "                \n",
    "        item_total = qty * price\n",
    "        totl = totl + item_total  \n",
    "    return totl\n",
    "\n",
    "total = total_price(cart)\n",
    "print(\"Total cart value is\", total)"
   ]
  },
  {
   "cell_type": "code",
   "execution_count": 15,
   "id": "e7de5446",
   "metadata": {},
   "outputs": [
    {
     "name": "stdout",
     "output_type": "stream",
     "text": [
      "madam is palindrome\n"
     ]
    }
   ],
   "source": [
    "def palindrome_check():\n",
    "    word = input(\"Enter a word: \")\n",
    "\n",
    "    rev = \"\"\n",
    "    for i in word:\n",
    "        rev = i + rev\n",
    "\n",
    "    if word == rev:\n",
    "        print(word, \"is palindrome\")\n",
    "    else:\n",
    "        print(word, \"is not palindrome\")\n",
    "\n",
    "palindrome_check()\n"
   ]
  },
  {
   "cell_type": "code",
   "execution_count": 22,
   "id": "2b292845",
   "metadata": {},
   "outputs": [
    {
     "name": "stdout",
     "output_type": "stream",
     "text": [
      "True\n",
      "False\n"
     ]
    }
   ],
   "source": [
    "def valid_check(e):\n",
    "    return (\n",
    "        e.count('@') == 1 and\n",
    "        ' ' not in e\n",
    "    )\n",
    "\n",
    "print(valid_check(\"aditya@gmail.com\")) \n",
    "print(valid_check(\"aditya @gmail.com\"))       \n",
    " \n"
   ]
  },
  {
   "cell_type": "code",
   "execution_count": null,
   "id": "ab662194",
   "metadata": {},
   "outputs": [],
   "source": []
  }
 ],
 "metadata": {
  "kernelspec": {
   "display_name": "Python 3",
   "language": "python",
   "name": "python3"
  },
  "language_info": {
   "codemirror_mode": {
    "name": "ipython",
    "version": 3
   },
   "file_extension": ".py",
   "mimetype": "text/x-python",
   "name": "python",
   "nbconvert_exporter": "python",
   "pygments_lexer": "ipython3",
   "version": "3.12.7"
  }
 },
 "nbformat": 4,
 "nbformat_minor": 5
}
