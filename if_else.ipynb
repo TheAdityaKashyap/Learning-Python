{
 "cells": [
  {
   "cell_type": "code",
   "execution_count": 1,
   "id": "f2a15edf",
   "metadata": {},
   "outputs": [
    {
     "name": "stdout",
     "output_type": "stream",
     "text": [
      "Access Granted for the MCQ.\n",
      "Who invented Java Programming?\n",
      "1 - Guido van Rossum\n",
      "2 -James Gosling\n",
      "3 - Dennis Ritchie\n",
      "4 - Bjarne Stroustrup\n",
      "Correct Answer [Well Done] Moving to next MCQ\n",
      "Which component is used to compile, debug and execute the java programs?\n",
      "1 - JRE\n",
      "2 - JIT\n",
      "3 - JDK\n",
      "4 - JVM\n",
      "Correct Answer [Well Done]\n"
     ]
    }
   ],
   "source": [
    "correct_password = input(\"Entera password: \")\n",
    "\n",
    "max_attempt = 3\n",
    "\n",
    "for attempt in range(max_attempt):\n",
    "    entered_password = input(\"Enter your Password: \")\n",
    "    if entered_password == correct_password:\n",
    "        print(\"Access Granted for the MCQ.\")\n",
    "        break\n",
    "    else:\n",
    "        remaining = max_attempt - attempt - 1\n",
    "        print(f\"Wrong password ..try {remaining} more time {'s' if remaining !=1 else ' '} out of {remaining} \")\n",
    "else:\n",
    "    print(\"Access Denied for the MCQ.\")\n",
    "    exit()\n",
    "    \n",
    "print(\"Who invented Java Programming?\")\n",
    "print(\"1 - Guido van Rossum\")\n",
    "print(\"2 -James Gosling\")\n",
    "print(\"3 - Dennis Ritchie\")\n",
    "print(\"4 - Bjarne Stroustrup\")\n",
    "\n",
    "answer1 = input(\"Enter your answer(1- 4): \")\n",
    "\n",
    "if answer1 != \"2\":\n",
    "    print(\"Wrong Answer [try next year]\")\n",
    "    exit()\n",
    "else:\n",
    "    print(\"Correct Answer [Well Done] Moving to next MCQ\")\n",
    "    \n",
    "print(\"Which component is used to compile, debug and execute the java programs?\")\n",
    "print(\"1 - JRE\")\n",
    "print(\"2 - JIT\")\n",
    "print(\"3 - JDK\")\n",
    "print(\"4 - JVM\")\n",
    "\n",
    "answer2 = input(\"Enter your answer(1- 4): \")\n",
    "\n",
    "if answer2 != \"3\":\n",
    "    print(\"Wrong Answer [try next year]\")\n",
    "else:\n",
    "    print(\"Correct Answer [Well Done]\")"
   ]
  },
  {
   "cell_type": "code",
   "execution_count": null,
   "id": "eaa93b2d",
   "metadata": {},
   "outputs": [],
   "source": []
  },
  {
   "cell_type": "code",
   "execution_count": null,
   "id": "bbaa0f65",
   "metadata": {},
   "outputs": [],
   "source": []
  }
 ],
 "metadata": {
  "kernelspec": {
   "display_name": "Python 3",
   "language": "python",
   "name": "python3"
  },
  "language_info": {
   "codemirror_mode": {
    "name": "ipython",
    "version": 3
   },
   "file_extension": ".py",
   "mimetype": "text/x-python",
   "name": "python",
   "nbconvert_exporter": "python",
   "pygments_lexer": "ipython3",
   "version": "3.12.7"
  }
 },
 "nbformat": 4,
 "nbformat_minor": 5
}
