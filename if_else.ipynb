{
 "cells": [
  {
   "cell_type": "code",
   "execution_count": null,
   "id": "f2a15edf",
   "metadata": {},
   "outputs": [
    {
     "ename": "SyntaxError",
     "evalue": "invalid syntax. Maybe you meant '==' or ':=' instead of '='? (367813179.py, line 41)",
     "output_type": "error",
     "traceback": [
      "\u001b[1;36m  Cell \u001b[1;32mIn[41], line 41\u001b[1;36m\u001b[0m\n\u001b[1;33m    elif EnteredPassword3 = input(\"wrong password ... try 1 more time out of 2\")\u001b[0m\n\u001b[1;37m         ^\u001b[0m\n\u001b[1;31mSyntaxError\u001b[0m\u001b[1;31m:\u001b[0m invalid syntax. Maybe you meant '==' or ':=' instead of '='?\n"
     ]
    }
   ],
   "source": [
    "password = input(\"Set your password: \")\n",
    "EnteredPassword2 = \"\"\n",
    "EnteredPassword3 = \"\"\n",
    "\n",
    "EnteredPassword = input(\"Enter your password: \")\n",
    "if password == EnteredPassword:\n",
    "    print(\"Access granted, you can Start Your MCQ Test\")\n",
    "    print(\"1. Who invented Java Programming?,\\n 1. ) Guido van Rossum\\n  2. ) James Gosling\\n  3. ) Dennis Ritchie\\n   4. ) Bjarne Stroustrup\")\n",
    "    print(\"Enter your answer (1-4): \")\n",
    "    answer = input()\n",
    "    if answer == \"2\":\n",
    "            print(\"Correct!\")\n",
    "            if password == EnteredPassword:\n",
    "                print(\"2. Which component is used to compile, debug and execute the java programs?, \\n 1. ) JRE\\n 2. ) JIT\\n 3. ) JDK\\n 4. ) JVM\")\n",
    "                print(\"Enter your answer (1-4): \")\n",
    "                answer2 = input()\n",
    "                if answer2 == \"2\":\n",
    "                    print(\"Correct!\")\n",
    "                else:\n",
    "                    print(\"Wrong! Try Next Year\")\n",
    "    else:\n",
    "        print(\"Wrong, Password\")\n",
    "\n",
    "elif EnteredPassword2 := input(\"wrong password ... try 2 more time out of 2\") == password:\n",
    "    print(\"Access granted, you can Start Your MCQ Test\")\n",
    "    print(\"1. Who invented Java Programming?,\\n 1. ) Guido van Rossum\\n  2. ) James Gosling\\n  3. ) Dennis Ritchie\\n   4. ) Bjarne Stroustrup\")\n",
    "    print(\"Enter your answer (1-4): \")\n",
    "    answer = input()\n",
    "    if answer == \"2\":\n",
    "            print(\"Correct!\")\n",
    "            if password == EnteredPassword2:\n",
    "                print(\"2. Which component is used to compile, debug and execute the java programs?, \\n 1. ) JRE\\n 2. ) JIT\\n 3. ) JDK\\n 4. ) JVM\")\n",
    "                print(\"Enter your answer (1-4): \")\n",
    "                answer2 = input()\n",
    "                if answer2 == \"2\":\n",
    "                    print(\"Correct!\")\n",
    "                else:\n",
    "                    print(\"Wrong! Try Next Year\")\n",
    "\n",
    "elif EnteredPassword3 = input(\"wrong password ... try 1 more time out of 2\") \n",
    "    if password == EnteredPassword3:\n",
    "        print(\"Access granted, you can Start Your MCQ Test\")\n",
    "\n",
    "    print(\"1. Who invented Java Programming?,\\n 1. ) Guido van Rossum\\n  2. ) James Gosling\\n  3. ) Dennis Ritchie\\n   4. ) Bjarne Stroustrup\")\n",
    "    print(\"Enter your answer (1-4): \")\n",
    "    answer = input()\n",
    "    if answer == \"2\":\n",
    "            print(\"Correct!\")\n",
    "            if password == EnteredPassword3:\n",
    "                print(\"2. Which component is used to compile, debug and execute the java programs?, \\n 1. ) JRE\\n 2. ) JIT\\n 3. ) JDK\\n 4. ) JVM\")\n",
    "                print(\"Enter your answer (1-4): \")\n",
    "                answer2 = input()\n",
    "                if answer2 == \"2\":\n",
    "                    print(\"Correct!\")\n",
    "                else:\n",
    "                    print(\"Wrong! Try Next Year\")\n",
    "\n",
    "\n",
    "else:\n",
    "    print(\"Access denied\")\n"
   ]
  },
  {
   "cell_type": "code",
   "execution_count": null,
   "id": "eaa93b2d",
   "metadata": {},
   "outputs": [],
   "source": []
  },
  {
   "cell_type": "code",
   "execution_count": null,
   "id": "bbaa0f65",
   "metadata": {},
   "outputs": [],
   "source": []
  }
 ],
 "metadata": {
  "kernelspec": {
   "display_name": "Python 3",
   "language": "python",
   "name": "python3"
  },
  "language_info": {
   "codemirror_mode": {
    "name": "ipython",
    "version": 3
   },
   "file_extension": ".py",
   "mimetype": "text/x-python",
   "name": "python",
   "nbconvert_exporter": "python",
   "pygments_lexer": "ipython3",
   "version": "3.12.7"
  }
 },
 "nbformat": 4,
 "nbformat_minor": 5
}
